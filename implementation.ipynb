{
 "cells": [
  {
   "cell_type": "markdown",
   "id": "e6e6a5ca",
   "metadata": {},
   "source": [
    "# IMPORT THE FILES "
   ]
  },
  {
   "cell_type": "code",
   "execution_count": 1,
   "id": "85d4ffa0",
   "metadata": {},
   "outputs": [],
   "source": [
    "import pandas as pd\n",
    "import numpy as np"
   ]
  },
  {
   "cell_type": "code",
   "execution_count": 2,
   "id": "dd29f6eb",
   "metadata": {},
   "outputs": [],
   "source": [
    "#import the data \n",
    "busines = pd.read_csv('business.csv')\n",
    "economy  =  pd.read_csv('economy.csv')"
   ]
  },
  {
   "cell_type": "code",
   "execution_count": 3,
   "id": "3e21068c",
   "metadata": {},
   "outputs": [
    {
     "data": {
      "text/html": [
       "<div>\n",
       "<style scoped>\n",
       "    .dataframe tbody tr th:only-of-type {\n",
       "        vertical-align: middle;\n",
       "    }\n",
       "\n",
       "    .dataframe tbody tr th {\n",
       "        vertical-align: top;\n",
       "    }\n",
       "\n",
       "    .dataframe thead th {\n",
       "        text-align: right;\n",
       "    }\n",
       "</style>\n",
       "<table border=\"1\" class=\"dataframe\">\n",
       "  <thead>\n",
       "    <tr style=\"text-align: right;\">\n",
       "      <th></th>\n",
       "      <th>date</th>\n",
       "      <th>airline</th>\n",
       "      <th>ch_code</th>\n",
       "      <th>num_code</th>\n",
       "      <th>dep_time</th>\n",
       "      <th>from</th>\n",
       "      <th>time_taken</th>\n",
       "      <th>stop</th>\n",
       "      <th>arr_time</th>\n",
       "      <th>to</th>\n",
       "      <th>price</th>\n",
       "    </tr>\n",
       "  </thead>\n",
       "  <tbody>\n",
       "    <tr>\n",
       "      <th>0</th>\n",
       "      <td>11-02-2022</td>\n",
       "      <td>Air India</td>\n",
       "      <td>AI</td>\n",
       "      <td>868</td>\n",
       "      <td>18:00</td>\n",
       "      <td>Delhi</td>\n",
       "      <td>02h 00m</td>\n",
       "      <td>non-stop</td>\n",
       "      <td>20:00</td>\n",
       "      <td>Mumbai</td>\n",
       "      <td>25,612</td>\n",
       "    </tr>\n",
       "    <tr>\n",
       "      <th>1</th>\n",
       "      <td>11-02-2022</td>\n",
       "      <td>Air India</td>\n",
       "      <td>AI</td>\n",
       "      <td>624</td>\n",
       "      <td>19:00</td>\n",
       "      <td>Delhi</td>\n",
       "      <td>02h 15m</td>\n",
       "      <td>non-stop</td>\n",
       "      <td>21:15</td>\n",
       "      <td>Mumbai</td>\n",
       "      <td>25,612</td>\n",
       "    </tr>\n",
       "    <tr>\n",
       "      <th>2</th>\n",
       "      <td>11-02-2022</td>\n",
       "      <td>Air India</td>\n",
       "      <td>AI</td>\n",
       "      <td>531</td>\n",
       "      <td>20:00</td>\n",
       "      <td>Delhi</td>\n",
       "      <td>24h 45m</td>\n",
       "      <td>1-stop\\n\\t\\t\\t\\t\\t\\t\\t\\t\\t\\t\\t\\t\\n\\t\\t\\t\\t\\t\\t...</td>\n",
       "      <td>20:45</td>\n",
       "      <td>Mumbai</td>\n",
       "      <td>42,220</td>\n",
       "    </tr>\n",
       "    <tr>\n",
       "      <th>3</th>\n",
       "      <td>11-02-2022</td>\n",
       "      <td>Air India</td>\n",
       "      <td>AI</td>\n",
       "      <td>839</td>\n",
       "      <td>21:25</td>\n",
       "      <td>Delhi</td>\n",
       "      <td>26h 30m</td>\n",
       "      <td>1-stop\\n\\t\\t\\t\\t\\t\\t\\t\\t\\t\\t\\t\\t\\n\\t\\t\\t\\t\\t\\t...</td>\n",
       "      <td>23:55</td>\n",
       "      <td>Mumbai</td>\n",
       "      <td>44,450</td>\n",
       "    </tr>\n",
       "    <tr>\n",
       "      <th>4</th>\n",
       "      <td>11-02-2022</td>\n",
       "      <td>Air India</td>\n",
       "      <td>AI</td>\n",
       "      <td>544</td>\n",
       "      <td>17:15</td>\n",
       "      <td>Delhi</td>\n",
       "      <td>06h 40m</td>\n",
       "      <td>1-stop\\n\\t\\t\\t\\t\\t\\t\\t\\t\\t\\t\\t\\t\\n\\t\\t\\t\\t\\t\\t...</td>\n",
       "      <td>23:55</td>\n",
       "      <td>Mumbai</td>\n",
       "      <td>46,690</td>\n",
       "    </tr>\n",
       "  </tbody>\n",
       "</table>\n",
       "</div>"
      ],
      "text/plain": [
       "         date    airline ch_code  num_code dep_time   from time_taken  \\\n",
       "0  11-02-2022  Air India      AI       868    18:00  Delhi    02h 00m   \n",
       "1  11-02-2022  Air India      AI       624    19:00  Delhi    02h 15m   \n",
       "2  11-02-2022  Air India      AI       531    20:00  Delhi    24h 45m   \n",
       "3  11-02-2022  Air India      AI       839    21:25  Delhi    26h 30m   \n",
       "4  11-02-2022  Air India      AI       544    17:15  Delhi    06h 40m   \n",
       "\n",
       "                                                stop arr_time      to   price  \n",
       "0                                          non-stop     20:00  Mumbai  25,612  \n",
       "1                                          non-stop     21:15  Mumbai  25,612  \n",
       "2  1-stop\\n\\t\\t\\t\\t\\t\\t\\t\\t\\t\\t\\t\\t\\n\\t\\t\\t\\t\\t\\t...    20:45  Mumbai  42,220  \n",
       "3  1-stop\\n\\t\\t\\t\\t\\t\\t\\t\\t\\t\\t\\t\\t\\n\\t\\t\\t\\t\\t\\t...    23:55  Mumbai  44,450  \n",
       "4  1-stop\\n\\t\\t\\t\\t\\t\\t\\t\\t\\t\\t\\t\\t\\n\\t\\t\\t\\t\\t\\t...    23:55  Mumbai  46,690  "
      ]
     },
     "execution_count": 3,
     "metadata": {},
     "output_type": "execute_result"
    }
   ],
   "source": [
    "busines.head(5)"
   ]
  },
  {
   "cell_type": "code",
   "execution_count": 4,
   "id": "0ad3e0aa",
   "metadata": {},
   "outputs": [
    {
     "data": {
      "text/html": [
       "<div>\n",
       "<style scoped>\n",
       "    .dataframe tbody tr th:only-of-type {\n",
       "        vertical-align: middle;\n",
       "    }\n",
       "\n",
       "    .dataframe tbody tr th {\n",
       "        vertical-align: top;\n",
       "    }\n",
       "\n",
       "    .dataframe thead th {\n",
       "        text-align: right;\n",
       "    }\n",
       "</style>\n",
       "<table border=\"1\" class=\"dataframe\">\n",
       "  <thead>\n",
       "    <tr style=\"text-align: right;\">\n",
       "      <th></th>\n",
       "      <th>date</th>\n",
       "      <th>airline</th>\n",
       "      <th>ch_code</th>\n",
       "      <th>num_code</th>\n",
       "      <th>dep_time</th>\n",
       "      <th>from</th>\n",
       "      <th>time_taken</th>\n",
       "      <th>stop</th>\n",
       "      <th>arr_time</th>\n",
       "      <th>to</th>\n",
       "      <th>price</th>\n",
       "    </tr>\n",
       "  </thead>\n",
       "  <tbody>\n",
       "    <tr>\n",
       "      <th>0</th>\n",
       "      <td>11-02-2022</td>\n",
       "      <td>SpiceJet</td>\n",
       "      <td>SG</td>\n",
       "      <td>8709</td>\n",
       "      <td>18:55</td>\n",
       "      <td>Delhi</td>\n",
       "      <td>02h 10m</td>\n",
       "      <td>non-stop</td>\n",
       "      <td>21:05</td>\n",
       "      <td>Mumbai</td>\n",
       "      <td>5,953</td>\n",
       "    </tr>\n",
       "    <tr>\n",
       "      <th>1</th>\n",
       "      <td>11-02-2022</td>\n",
       "      <td>SpiceJet</td>\n",
       "      <td>SG</td>\n",
       "      <td>8157</td>\n",
       "      <td>06:20</td>\n",
       "      <td>Delhi</td>\n",
       "      <td>02h 20m</td>\n",
       "      <td>non-stop</td>\n",
       "      <td>08:40</td>\n",
       "      <td>Mumbai</td>\n",
       "      <td>5,953</td>\n",
       "    </tr>\n",
       "    <tr>\n",
       "      <th>2</th>\n",
       "      <td>11-02-2022</td>\n",
       "      <td>AirAsia</td>\n",
       "      <td>I5</td>\n",
       "      <td>764</td>\n",
       "      <td>04:25</td>\n",
       "      <td>Delhi</td>\n",
       "      <td>02h 10m</td>\n",
       "      <td>non-stop</td>\n",
       "      <td>06:35</td>\n",
       "      <td>Mumbai</td>\n",
       "      <td>5,956</td>\n",
       "    </tr>\n",
       "    <tr>\n",
       "      <th>3</th>\n",
       "      <td>11-02-2022</td>\n",
       "      <td>Vistara</td>\n",
       "      <td>UK</td>\n",
       "      <td>995</td>\n",
       "      <td>10:20</td>\n",
       "      <td>Delhi</td>\n",
       "      <td>02h 15m</td>\n",
       "      <td>non-stop</td>\n",
       "      <td>12:35</td>\n",
       "      <td>Mumbai</td>\n",
       "      <td>5,955</td>\n",
       "    </tr>\n",
       "    <tr>\n",
       "      <th>4</th>\n",
       "      <td>11-02-2022</td>\n",
       "      <td>Vistara</td>\n",
       "      <td>UK</td>\n",
       "      <td>963</td>\n",
       "      <td>08:50</td>\n",
       "      <td>Delhi</td>\n",
       "      <td>02h 20m</td>\n",
       "      <td>non-stop</td>\n",
       "      <td>11:10</td>\n",
       "      <td>Mumbai</td>\n",
       "      <td>5,955</td>\n",
       "    </tr>\n",
       "  </tbody>\n",
       "</table>\n",
       "</div>"
      ],
      "text/plain": [
       "         date   airline ch_code  num_code dep_time   from time_taken  \\\n",
       "0  11-02-2022  SpiceJet      SG      8709    18:55  Delhi    02h 10m   \n",
       "1  11-02-2022  SpiceJet      SG      8157    06:20  Delhi    02h 20m   \n",
       "2  11-02-2022   AirAsia      I5       764    04:25  Delhi    02h 10m   \n",
       "3  11-02-2022   Vistara      UK       995    10:20  Delhi    02h 15m   \n",
       "4  11-02-2022   Vistara      UK       963    08:50  Delhi    02h 20m   \n",
       "\n",
       "        stop arr_time      to  price  \n",
       "0  non-stop     21:05  Mumbai  5,953  \n",
       "1  non-stop     08:40  Mumbai  5,953  \n",
       "2  non-stop     06:35  Mumbai  5,956  \n",
       "3  non-stop     12:35  Mumbai  5,955  \n",
       "4  non-stop     11:10  Mumbai  5,955  "
      ]
     },
     "execution_count": 4,
     "metadata": {},
     "output_type": "execute_result"
    }
   ],
   "source": [
    "economy.head(5)"
   ]
  },
  {
   "cell_type": "code",
   "execution_count": 5,
   "id": "0baff80d",
   "metadata": {},
   "outputs": [
    {
     "name": "stdout",
     "output_type": "stream",
     "text": [
      "(93487, 11) (206774, 11)\n"
     ]
    }
   ],
   "source": [
    "print(busines.shape,economy.shape)"
   ]
  },
  {
   "cell_type": "code",
   "execution_count": 6,
   "id": "01af2dd1",
   "metadata": {},
   "outputs": [
    {
     "name": "stdout",
     "output_type": "stream",
     "text": [
      "so we have info for 93487 number of bussines class flights and \n",
      " 206774 number of economy class flights\n"
     ]
    }
   ],
   "source": [
    "print(f\"so we have info for {busines.shape[0]} number of bussines class flights and \\n {economy.shape[0]} number of economy class flights\")"
   ]
  },
  {
   "cell_type": "code",
   "execution_count": null,
   "id": "b3025510",
   "metadata": {},
   "outputs": [],
   "source": []
  },
  {
   "cell_type": "code",
   "execution_count": null,
   "id": "ab3039cc",
   "metadata": {},
   "outputs": [],
   "source": []
  },
  {
   "cell_type": "code",
   "execution_count": null,
   "id": "8d8c89be",
   "metadata": {},
   "outputs": [],
   "source": []
  },
  {
   "cell_type": "markdown",
   "id": "80591c26",
   "metadata": {},
   "source": [
    "# Data Cleaning and Basic Info"
   ]
  },
  {
   "cell_type": "code",
   "execution_count": 7,
   "id": "911c93cf",
   "metadata": {},
   "outputs": [
    {
     "data": {
      "text/plain": [
       "date          0\n",
       "airline       0\n",
       "ch_code       0\n",
       "num_code      0\n",
       "dep_time      0\n",
       "from          0\n",
       "time_taken    0\n",
       "stop          0\n",
       "arr_time      0\n",
       "to            0\n",
       "price         0\n",
       "dtype: int64"
      ]
     },
     "execution_count": 7,
     "metadata": {},
     "output_type": "execute_result"
    }
   ],
   "source": [
    "# check for nulls\n",
    "economy.isnull().sum()"
   ]
  },
  {
   "cell_type": "code",
   "execution_count": 8,
   "id": "1d48a5f4",
   "metadata": {},
   "outputs": [
    {
     "data": {
      "text/plain": [
       "date          0\n",
       "airline       0\n",
       "ch_code       0\n",
       "num_code      0\n",
       "dep_time      0\n",
       "from          0\n",
       "time_taken    0\n",
       "stop          0\n",
       "arr_time      0\n",
       "to            0\n",
       "price         0\n",
       "dtype: int64"
      ]
     },
     "execution_count": 8,
     "metadata": {},
     "output_type": "execute_result"
    }
   ],
   "source": [
    "busines.isnull().sum()"
   ]
  },
  {
   "cell_type": "code",
   "execution_count": 9,
   "id": "f964511a",
   "metadata": {},
   "outputs": [],
   "source": [
    "# no null thats good"
   ]
  },
  {
   "cell_type": "markdown",
   "id": "9821de07",
   "metadata": {},
   "source": [
    "### Concatenate the dataframes "
   ]
  },
  {
   "cell_type": "code",
   "execution_count": 10,
   "id": "8f2ce83d",
   "metadata": {},
   "outputs": [],
   "source": [
    "busines['class'] = 'bussines'\n",
    "economy['class'] = 'economy'\n",
    "flights = pd.concat((busines,economy),axis=0)"
   ]
  },
  {
   "cell_type": "code",
   "execution_count": 11,
   "id": "242ec06c",
   "metadata": {},
   "outputs": [
    {
     "data": {
      "text/html": [
       "<div>\n",
       "<style scoped>\n",
       "    .dataframe tbody tr th:only-of-type {\n",
       "        vertical-align: middle;\n",
       "    }\n",
       "\n",
       "    .dataframe tbody tr th {\n",
       "        vertical-align: top;\n",
       "    }\n",
       "\n",
       "    .dataframe thead th {\n",
       "        text-align: right;\n",
       "    }\n",
       "</style>\n",
       "<table border=\"1\" class=\"dataframe\">\n",
       "  <thead>\n",
       "    <tr style=\"text-align: right;\">\n",
       "      <th></th>\n",
       "      <th>date</th>\n",
       "      <th>airline</th>\n",
       "      <th>ch_code</th>\n",
       "      <th>num_code</th>\n",
       "      <th>dep_time</th>\n",
       "      <th>from</th>\n",
       "      <th>time_taken</th>\n",
       "      <th>stop</th>\n",
       "      <th>arr_time</th>\n",
       "      <th>to</th>\n",
       "      <th>price</th>\n",
       "      <th>class</th>\n",
       "    </tr>\n",
       "  </thead>\n",
       "  <tbody>\n",
       "    <tr>\n",
       "      <th>0</th>\n",
       "      <td>11-02-2022</td>\n",
       "      <td>Air India</td>\n",
       "      <td>AI</td>\n",
       "      <td>868</td>\n",
       "      <td>18:00</td>\n",
       "      <td>Delhi</td>\n",
       "      <td>02h 00m</td>\n",
       "      <td>non-stop</td>\n",
       "      <td>20:00</td>\n",
       "      <td>Mumbai</td>\n",
       "      <td>25,612</td>\n",
       "      <td>bussines</td>\n",
       "    </tr>\n",
       "    <tr>\n",
       "      <th>1</th>\n",
       "      <td>11-02-2022</td>\n",
       "      <td>Air India</td>\n",
       "      <td>AI</td>\n",
       "      <td>624</td>\n",
       "      <td>19:00</td>\n",
       "      <td>Delhi</td>\n",
       "      <td>02h 15m</td>\n",
       "      <td>non-stop</td>\n",
       "      <td>21:15</td>\n",
       "      <td>Mumbai</td>\n",
       "      <td>25,612</td>\n",
       "      <td>bussines</td>\n",
       "    </tr>\n",
       "    <tr>\n",
       "      <th>2</th>\n",
       "      <td>11-02-2022</td>\n",
       "      <td>Air India</td>\n",
       "      <td>AI</td>\n",
       "      <td>531</td>\n",
       "      <td>20:00</td>\n",
       "      <td>Delhi</td>\n",
       "      <td>24h 45m</td>\n",
       "      <td>1-stop\\n\\t\\t\\t\\t\\t\\t\\t\\t\\t\\t\\t\\t\\n\\t\\t\\t\\t\\t\\t...</td>\n",
       "      <td>20:45</td>\n",
       "      <td>Mumbai</td>\n",
       "      <td>42,220</td>\n",
       "      <td>bussines</td>\n",
       "    </tr>\n",
       "    <tr>\n",
       "      <th>3</th>\n",
       "      <td>11-02-2022</td>\n",
       "      <td>Air India</td>\n",
       "      <td>AI</td>\n",
       "      <td>839</td>\n",
       "      <td>21:25</td>\n",
       "      <td>Delhi</td>\n",
       "      <td>26h 30m</td>\n",
       "      <td>1-stop\\n\\t\\t\\t\\t\\t\\t\\t\\t\\t\\t\\t\\t\\n\\t\\t\\t\\t\\t\\t...</td>\n",
       "      <td>23:55</td>\n",
       "      <td>Mumbai</td>\n",
       "      <td>44,450</td>\n",
       "      <td>bussines</td>\n",
       "    </tr>\n",
       "    <tr>\n",
       "      <th>4</th>\n",
       "      <td>11-02-2022</td>\n",
       "      <td>Air India</td>\n",
       "      <td>AI</td>\n",
       "      <td>544</td>\n",
       "      <td>17:15</td>\n",
       "      <td>Delhi</td>\n",
       "      <td>06h 40m</td>\n",
       "      <td>1-stop\\n\\t\\t\\t\\t\\t\\t\\t\\t\\t\\t\\t\\t\\n\\t\\t\\t\\t\\t\\t...</td>\n",
       "      <td>23:55</td>\n",
       "      <td>Mumbai</td>\n",
       "      <td>46,690</td>\n",
       "      <td>bussines</td>\n",
       "    </tr>\n",
       "    <tr>\n",
       "      <th>...</th>\n",
       "      <td>...</td>\n",
       "      <td>...</td>\n",
       "      <td>...</td>\n",
       "      <td>...</td>\n",
       "      <td>...</td>\n",
       "      <td>...</td>\n",
       "      <td>...</td>\n",
       "      <td>...</td>\n",
       "      <td>...</td>\n",
       "      <td>...</td>\n",
       "      <td>...</td>\n",
       "      <td>...</td>\n",
       "    </tr>\n",
       "    <tr>\n",
       "      <th>206769</th>\n",
       "      <td>31-03-2022</td>\n",
       "      <td>Vistara</td>\n",
       "      <td>UK</td>\n",
       "      <td>832</td>\n",
       "      <td>07:05</td>\n",
       "      <td>Chennai</td>\n",
       "      <td>13h 50m</td>\n",
       "      <td>1-stop\\n\\t\\t\\t\\t\\t\\t\\t\\t\\t\\t\\t\\t\\n\\t\\t\\t\\t\\t\\t...</td>\n",
       "      <td>20:55</td>\n",
       "      <td>Hyderabad</td>\n",
       "      <td>7,697</td>\n",
       "      <td>economy</td>\n",
       "    </tr>\n",
       "    <tr>\n",
       "      <th>206770</th>\n",
       "      <td>31-03-2022</td>\n",
       "      <td>Vistara</td>\n",
       "      <td>UK</td>\n",
       "      <td>832</td>\n",
       "      <td>07:05</td>\n",
       "      <td>Chennai</td>\n",
       "      <td>13h 50m</td>\n",
       "      <td>1-stop\\n\\t\\t\\t\\t\\t\\t\\t\\t\\t\\t\\t\\t\\n\\t\\t\\t\\t\\t\\t...</td>\n",
       "      <td>20:55</td>\n",
       "      <td>Hyderabad</td>\n",
       "      <td>7,709</td>\n",
       "      <td>economy</td>\n",
       "    </tr>\n",
       "    <tr>\n",
       "      <th>206771</th>\n",
       "      <td>31-03-2022</td>\n",
       "      <td>Vistara</td>\n",
       "      <td>UK</td>\n",
       "      <td>826</td>\n",
       "      <td>12:30</td>\n",
       "      <td>Chennai</td>\n",
       "      <td>20h 35m</td>\n",
       "      <td>1-stop\\n\\t\\t\\t\\t\\t\\t\\t\\t\\t\\t\\t\\t\\n\\t\\t\\t\\t\\t\\t...</td>\n",
       "      <td>09:05</td>\n",
       "      <td>Hyderabad</td>\n",
       "      <td>8,640</td>\n",
       "      <td>economy</td>\n",
       "    </tr>\n",
       "    <tr>\n",
       "      <th>206772</th>\n",
       "      <td>31-03-2022</td>\n",
       "      <td>Vistara</td>\n",
       "      <td>UK</td>\n",
       "      <td>822</td>\n",
       "      <td>09:45</td>\n",
       "      <td>Chennai</td>\n",
       "      <td>23h 20m</td>\n",
       "      <td>1-stop\\n\\t\\t\\t\\t\\t\\t\\t\\t\\t\\t\\t\\t\\n\\t\\t\\t\\t\\t\\t...</td>\n",
       "      <td>09:05</td>\n",
       "      <td>Hyderabad</td>\n",
       "      <td>8,640</td>\n",
       "      <td>economy</td>\n",
       "    </tr>\n",
       "    <tr>\n",
       "      <th>206773</th>\n",
       "      <td>31-03-2022</td>\n",
       "      <td>Vistara</td>\n",
       "      <td>UK</td>\n",
       "      <td>824</td>\n",
       "      <td>20:30</td>\n",
       "      <td>Chennai</td>\n",
       "      <td>24h 25m</td>\n",
       "      <td>1-stop\\n\\t\\t\\t\\t\\t\\t\\t\\t\\t\\t\\t\\t\\n\\t\\t\\t\\t\\t\\t...</td>\n",
       "      <td>20:55</td>\n",
       "      <td>Hyderabad</td>\n",
       "      <td>8,640</td>\n",
       "      <td>economy</td>\n",
       "    </tr>\n",
       "  </tbody>\n",
       "</table>\n",
       "<p>300261 rows × 12 columns</p>\n",
       "</div>"
      ],
      "text/plain": [
       "              date    airline ch_code  num_code dep_time     from time_taken  \\\n",
       "0       11-02-2022  Air India      AI       868    18:00    Delhi    02h 00m   \n",
       "1       11-02-2022  Air India      AI       624    19:00    Delhi    02h 15m   \n",
       "2       11-02-2022  Air India      AI       531    20:00    Delhi    24h 45m   \n",
       "3       11-02-2022  Air India      AI       839    21:25    Delhi    26h 30m   \n",
       "4       11-02-2022  Air India      AI       544    17:15    Delhi    06h 40m   \n",
       "...            ...        ...     ...       ...      ...      ...        ...   \n",
       "206769  31-03-2022    Vistara      UK       832    07:05  Chennai    13h 50m   \n",
       "206770  31-03-2022    Vistara      UK       832    07:05  Chennai    13h 50m   \n",
       "206771  31-03-2022    Vistara      UK       826    12:30  Chennai    20h 35m   \n",
       "206772  31-03-2022    Vistara      UK       822    09:45  Chennai    23h 20m   \n",
       "206773  31-03-2022    Vistara      UK       824    20:30  Chennai    24h 25m   \n",
       "\n",
       "                                                     stop arr_time         to  \\\n",
       "0                                               non-stop     20:00     Mumbai   \n",
       "1                                               non-stop     21:15     Mumbai   \n",
       "2       1-stop\\n\\t\\t\\t\\t\\t\\t\\t\\t\\t\\t\\t\\t\\n\\t\\t\\t\\t\\t\\t...    20:45     Mumbai   \n",
       "3       1-stop\\n\\t\\t\\t\\t\\t\\t\\t\\t\\t\\t\\t\\t\\n\\t\\t\\t\\t\\t\\t...    23:55     Mumbai   \n",
       "4       1-stop\\n\\t\\t\\t\\t\\t\\t\\t\\t\\t\\t\\t\\t\\n\\t\\t\\t\\t\\t\\t...    23:55     Mumbai   \n",
       "...                                                   ...      ...        ...   \n",
       "206769  1-stop\\n\\t\\t\\t\\t\\t\\t\\t\\t\\t\\t\\t\\t\\n\\t\\t\\t\\t\\t\\t...    20:55  Hyderabad   \n",
       "206770  1-stop\\n\\t\\t\\t\\t\\t\\t\\t\\t\\t\\t\\t\\t\\n\\t\\t\\t\\t\\t\\t...    20:55  Hyderabad   \n",
       "206771  1-stop\\n\\t\\t\\t\\t\\t\\t\\t\\t\\t\\t\\t\\t\\n\\t\\t\\t\\t\\t\\t...    09:05  Hyderabad   \n",
       "206772  1-stop\\n\\t\\t\\t\\t\\t\\t\\t\\t\\t\\t\\t\\t\\n\\t\\t\\t\\t\\t\\t...    09:05  Hyderabad   \n",
       "206773  1-stop\\n\\t\\t\\t\\t\\t\\t\\t\\t\\t\\t\\t\\t\\n\\t\\t\\t\\t\\t\\t...    20:55  Hyderabad   \n",
       "\n",
       "         price     class  \n",
       "0       25,612  bussines  \n",
       "1       25,612  bussines  \n",
       "2       42,220  bussines  \n",
       "3       44,450  bussines  \n",
       "4       46,690  bussines  \n",
       "...        ...       ...  \n",
       "206769   7,697   economy  \n",
       "206770   7,709   economy  \n",
       "206771   8,640   economy  \n",
       "206772   8,640   economy  \n",
       "206773   8,640   economy  \n",
       "\n",
       "[300261 rows x 12 columns]"
      ]
     },
     "execution_count": 11,
     "metadata": {},
     "output_type": "execute_result"
    }
   ],
   "source": [
    "flights"
   ]
  },
  {
   "cell_type": "code",
   "execution_count": 12,
   "id": "11f47f6a",
   "metadata": {},
   "outputs": [
    {
     "data": {
      "text/html": [
       "<div>\n",
       "<style scoped>\n",
       "    .dataframe tbody tr th:only-of-type {\n",
       "        vertical-align: middle;\n",
       "    }\n",
       "\n",
       "    .dataframe tbody tr th {\n",
       "        vertical-align: top;\n",
       "    }\n",
       "\n",
       "    .dataframe thead th {\n",
       "        text-align: right;\n",
       "    }\n",
       "</style>\n",
       "<table border=\"1\" class=\"dataframe\">\n",
       "  <thead>\n",
       "    <tr style=\"text-align: right;\">\n",
       "      <th></th>\n",
       "      <th>date</th>\n",
       "      <th>airline</th>\n",
       "      <th>ch_code</th>\n",
       "      <th>num_code</th>\n",
       "      <th>dep_time</th>\n",
       "      <th>from</th>\n",
       "      <th>time_taken</th>\n",
       "      <th>stop</th>\n",
       "      <th>arr_time</th>\n",
       "      <th>to</th>\n",
       "      <th>price</th>\n",
       "      <th>class</th>\n",
       "    </tr>\n",
       "  </thead>\n",
       "  <tbody>\n",
       "    <tr>\n",
       "      <th>0</th>\n",
       "      <td>11-02-2022</td>\n",
       "      <td>Air India</td>\n",
       "      <td>AI</td>\n",
       "      <td>868</td>\n",
       "      <td>18:00</td>\n",
       "      <td>Delhi</td>\n",
       "      <td>02h 00m</td>\n",
       "      <td>non-stop</td>\n",
       "      <td>20:00</td>\n",
       "      <td>Mumbai</td>\n",
       "      <td>25,612</td>\n",
       "      <td>bussines</td>\n",
       "    </tr>\n",
       "  </tbody>\n",
       "</table>\n",
       "</div>"
      ],
      "text/plain": [
       "         date    airline ch_code  num_code dep_time   from time_taken  \\\n",
       "0  11-02-2022  Air India      AI       868    18:00  Delhi    02h 00m   \n",
       "\n",
       "        stop arr_time      to   price     class  \n",
       "0  non-stop     20:00  Mumbai  25,612  bussines  "
      ]
     },
     "execution_count": 12,
     "metadata": {},
     "output_type": "execute_result"
    }
   ],
   "source": [
    "flights.head(1)"
   ]
  },
  {
   "cell_type": "code",
   "execution_count": 13,
   "id": "8e44a958",
   "metadata": {},
   "outputs": [
    {
     "name": "stdout",
     "output_type": "stream",
     "text": [
      "<class 'pandas.core.frame.DataFrame'>\n",
      "Index: 300261 entries, 0 to 206773\n",
      "Data columns (total 12 columns):\n",
      " #   Column      Non-Null Count   Dtype \n",
      "---  ------      --------------   ----- \n",
      " 0   date        300261 non-null  object\n",
      " 1   airline     300261 non-null  object\n",
      " 2   ch_code     300261 non-null  object\n",
      " 3   num_code    300261 non-null  int64 \n",
      " 4   dep_time    300261 non-null  object\n",
      " 5   from        300261 non-null  object\n",
      " 6   time_taken  300261 non-null  object\n",
      " 7   stop        300261 non-null  object\n",
      " 8   arr_time    300261 non-null  object\n",
      " 9   to          300261 non-null  object\n",
      " 10  price       300261 non-null  object\n",
      " 11  class       300261 non-null  object\n",
      "dtypes: int64(1), object(11)\n",
      "memory usage: 29.8+ MB\n"
     ]
    }
   ],
   "source": [
    "flights.info()"
   ]
  },
  {
   "cell_type": "code",
   "execution_count": null,
   "id": "b25d7503",
   "metadata": {},
   "outputs": [],
   "source": []
  },
  {
   "cell_type": "code",
   "execution_count": null,
   "id": "dd8ab7e4",
   "metadata": {},
   "outputs": [],
   "source": []
  },
  {
   "cell_type": "markdown",
   "id": "2c28d31c",
   "metadata": {},
   "source": [
    "### we have to change the type of some features"
   ]
  },
  {
   "cell_type": "code",
   "execution_count": 14,
   "id": "43bb5262",
   "metadata": {},
   "outputs": [],
   "source": [
    "flights['price'] = flights['price'].str.replace(',','')\n",
    "\n",
    "\n",
    "flights['price'] = flights['price'].astype('int32')"
   ]
  },
  {
   "cell_type": "markdown",
   "id": "9563c729",
   "metadata": {},
   "source": [
    "## some columns are datetimes so we change them starting with date:\n"
   ]
  },
  {
   "cell_type": "code",
   "execution_count": 15,
   "id": "3bde655d",
   "metadata": {},
   "outputs": [],
   "source": [
    "flights['date'] = pd.to_datetime(flights['date'],format='%d-%m-%Y')\n",
    "flights['year'] = flights['date'].dt.year\n",
    "flights['month'] = flights['date'].dt.month\n",
    "flights['day'] = flights['date'].dt.day\n",
    "flights.drop(columns=['date'],inplace=True)"
   ]
  },
  {
   "cell_type": "code",
   "execution_count": 16,
   "id": "9074c3a2",
   "metadata": {},
   "outputs": [
    {
     "data": {
      "text/html": [
       "<div>\n",
       "<style scoped>\n",
       "    .dataframe tbody tr th:only-of-type {\n",
       "        vertical-align: middle;\n",
       "    }\n",
       "\n",
       "    .dataframe tbody tr th {\n",
       "        vertical-align: top;\n",
       "    }\n",
       "\n",
       "    .dataframe thead th {\n",
       "        text-align: right;\n",
       "    }\n",
       "</style>\n",
       "<table border=\"1\" class=\"dataframe\">\n",
       "  <thead>\n",
       "    <tr style=\"text-align: right;\">\n",
       "      <th></th>\n",
       "      <th>airline</th>\n",
       "      <th>ch_code</th>\n",
       "      <th>num_code</th>\n",
       "      <th>dep_time</th>\n",
       "      <th>from</th>\n",
       "      <th>time_taken</th>\n",
       "      <th>stop</th>\n",
       "      <th>arr_time</th>\n",
       "      <th>to</th>\n",
       "      <th>price</th>\n",
       "      <th>class</th>\n",
       "      <th>year</th>\n",
       "      <th>month</th>\n",
       "      <th>day</th>\n",
       "    </tr>\n",
       "  </thead>\n",
       "  <tbody>\n",
       "    <tr>\n",
       "      <th>0</th>\n",
       "      <td>Air India</td>\n",
       "      <td>AI</td>\n",
       "      <td>868</td>\n",
       "      <td>18:00</td>\n",
       "      <td>Delhi</td>\n",
       "      <td>02h 00m</td>\n",
       "      <td>non-stop</td>\n",
       "      <td>20:00</td>\n",
       "      <td>Mumbai</td>\n",
       "      <td>25612</td>\n",
       "      <td>bussines</td>\n",
       "      <td>2022</td>\n",
       "      <td>2</td>\n",
       "      <td>11</td>\n",
       "    </tr>\n",
       "  </tbody>\n",
       "</table>\n",
       "</div>"
      ],
      "text/plain": [
       "     airline ch_code  num_code dep_time   from time_taken       stop arr_time  \\\n",
       "0  Air India      AI       868    18:00  Delhi    02h 00m  non-stop     20:00   \n",
       "\n",
       "       to  price     class  year  month  day  \n",
       "0  Mumbai  25612  bussines  2022      2   11  "
      ]
     },
     "execution_count": 16,
     "metadata": {},
     "output_type": "execute_result"
    }
   ],
   "source": [
    "flights.head(1)"
   ]
  },
  {
   "cell_type": "code",
   "execution_count": 17,
   "id": "29dc61f3",
   "metadata": {},
   "outputs": [
    {
     "data": {
      "text/plain": [
       "(300261, 14)"
      ]
     },
     "execution_count": 17,
     "metadata": {},
     "output_type": "execute_result"
    }
   ],
   "source": [
    "flights.shape"
   ]
  },
  {
   "cell_type": "code",
   "execution_count": null,
   "id": "adf22d42",
   "metadata": {},
   "outputs": [],
   "source": []
  },
  {
   "cell_type": "code",
   "execution_count": null,
   "id": "1aaa0588",
   "metadata": {},
   "outputs": [],
   "source": []
  },
  {
   "cell_type": "markdown",
   "id": "fa48e13a",
   "metadata": {},
   "source": [
    "## then departure and arrival time we will make them as parts of the day :"
   ]
  },
  {
   "cell_type": "code",
   "execution_count": 18,
   "id": "b4ed712b",
   "metadata": {},
   "outputs": [],
   "source": [
    "flights['dep_time'] = flights['dep_time'].str[:2]\n",
    "#flights['dep_time'] = flights['dep_time'].str.replace('0','')\n",
    "\n",
    "\n",
    "\n",
    "flights['arr_time'] = flights['arr_time'].str[:2]\n",
    "#flights['arr_time'] = flights['arr_time'].str.replace('0','')\n",
    "\n",
    "\n",
    "\n"
   ]
  },
  {
   "cell_type": "code",
   "execution_count": 19,
   "id": "cb603491",
   "metadata": {},
   "outputs": [],
   "source": [
    "flights['dep_time'] = flights['dep_time'].astype('int32')\n",
    "flights['arr_time'] = flights['arr_time'].astype('int32')"
   ]
  },
  {
   "cell_type": "code",
   "execution_count": 20,
   "id": "642cbdc1",
   "metadata": {},
   "outputs": [],
   "source": [
    "def times(i):\n",
    "    y = []\n",
    "    for x in i : \n",
    "        if x > 0 and x < 7 :\n",
    "            y.append('night')\n",
    "        elif x >7 and x < 12 :\n",
    "            y.append('morning')\n",
    "        elif x > 12 and x < 17:\n",
    "            y.append('midday')\n",
    "        else :\n",
    "            y.append('afternoom')\n",
    "    return y \n",
    "\n",
    "\n",
    "deptimes = flights['dep_time'].values\n",
    "new_values_dep = times(deptimes)\n",
    "\n",
    "artimes = flights['arr_time'].values\n",
    "new_values_ar = times(artimes)\n",
    "\n",
    "\n",
    "\n",
    "        \n",
    "    \n",
    "  \n",
    "    \n",
    "    \n",
    "    \n",
    "    \n"
   ]
  },
  {
   "cell_type": "code",
   "execution_count": 21,
   "id": "ea01ebe5",
   "metadata": {},
   "outputs": [],
   "source": [
    "flights['arrival'] = new_values_ar\n",
    "flights['departure'] = new_values_dep"
   ]
  },
  {
   "cell_type": "code",
   "execution_count": 22,
   "id": "0e7557a4",
   "metadata": {},
   "outputs": [],
   "source": [
    "flights.drop(columns=['arr_time','dep_time'],inplace=True)"
   ]
  },
  {
   "cell_type": "code",
   "execution_count": null,
   "id": "0e65a3da",
   "metadata": {},
   "outputs": [],
   "source": []
  },
  {
   "cell_type": "code",
   "execution_count": null,
   "id": "69a49393",
   "metadata": {},
   "outputs": [],
   "source": []
  },
  {
   "cell_type": "markdown",
   "id": "fb55c088",
   "metadata": {},
   "source": [
    "## lets deal with the number of stops column:"
   ]
  },
  {
   "cell_type": "code",
   "execution_count": 23,
   "id": "302b05d9",
   "metadata": {},
   "outputs": [],
   "source": [
    "flights.stop.unique()\n",
    "flights['stop'] = flights['stop'].str[:1]"
   ]
  },
  {
   "cell_type": "code",
   "execution_count": 24,
   "id": "1a7224c5",
   "metadata": {},
   "outputs": [],
   "source": [
    "flights['stop'] = flights['stop'].replace('n','0')"
   ]
  },
  {
   "cell_type": "code",
   "execution_count": 25,
   "id": "d268157b",
   "metadata": {},
   "outputs": [
    {
     "data": {
      "text/plain": [
       "array(['0', '1', '2'], dtype=object)"
      ]
     },
     "execution_count": 25,
     "metadata": {},
     "output_type": "execute_result"
    }
   ],
   "source": [
    "flights.stop.unique()"
   ]
  },
  {
   "cell_type": "code",
   "execution_count": 26,
   "id": "7483742f",
   "metadata": {},
   "outputs": [],
   "source": [
    "flights['stop'] = flights['stop'].astype('int32')"
   ]
  },
  {
   "cell_type": "code",
   "execution_count": null,
   "id": "0a960d19",
   "metadata": {},
   "outputs": [],
   "source": []
  },
  {
   "cell_type": "code",
   "execution_count": 27,
   "id": "337ab969",
   "metadata": {},
   "outputs": [
    {
     "data": {
      "text/html": [
       "<div>\n",
       "<style scoped>\n",
       "    .dataframe tbody tr th:only-of-type {\n",
       "        vertical-align: middle;\n",
       "    }\n",
       "\n",
       "    .dataframe tbody tr th {\n",
       "        vertical-align: top;\n",
       "    }\n",
       "\n",
       "    .dataframe thead th {\n",
       "        text-align: right;\n",
       "    }\n",
       "</style>\n",
       "<table border=\"1\" class=\"dataframe\">\n",
       "  <thead>\n",
       "    <tr style=\"text-align: right;\">\n",
       "      <th></th>\n",
       "      <th>airline</th>\n",
       "      <th>ch_code</th>\n",
       "      <th>num_code</th>\n",
       "      <th>from</th>\n",
       "      <th>time_taken</th>\n",
       "      <th>stop</th>\n",
       "      <th>to</th>\n",
       "      <th>price</th>\n",
       "      <th>class</th>\n",
       "      <th>year</th>\n",
       "      <th>month</th>\n",
       "      <th>day</th>\n",
       "      <th>arrival</th>\n",
       "      <th>departure</th>\n",
       "    </tr>\n",
       "  </thead>\n",
       "  <tbody>\n",
       "    <tr>\n",
       "      <th>0</th>\n",
       "      <td>Air India</td>\n",
       "      <td>AI</td>\n",
       "      <td>868</td>\n",
       "      <td>Delhi</td>\n",
       "      <td>02h 00m</td>\n",
       "      <td>0</td>\n",
       "      <td>Mumbai</td>\n",
       "      <td>25612</td>\n",
       "      <td>bussines</td>\n",
       "      <td>2022</td>\n",
       "      <td>2</td>\n",
       "      <td>11</td>\n",
       "      <td>afternoom</td>\n",
       "      <td>afternoom</td>\n",
       "    </tr>\n",
       "  </tbody>\n",
       "</table>\n",
       "</div>"
      ],
      "text/plain": [
       "     airline ch_code  num_code   from time_taken  stop      to  price  \\\n",
       "0  Air India      AI       868  Delhi    02h 00m     0  Mumbai  25612   \n",
       "\n",
       "      class  year  month  day    arrival  departure  \n",
       "0  bussines  2022      2   11  afternoom  afternoom  "
      ]
     },
     "execution_count": 27,
     "metadata": {},
     "output_type": "execute_result"
    }
   ],
   "source": [
    "flights.head(1)"
   ]
  },
  {
   "cell_type": "code",
   "execution_count": null,
   "id": "eeacfb84",
   "metadata": {},
   "outputs": [],
   "source": []
  },
  {
   "cell_type": "code",
   "execution_count": null,
   "id": "4f737ec8",
   "metadata": {},
   "outputs": [],
   "source": []
  },
  {
   "cell_type": "markdown",
   "id": "65b546da",
   "metadata": {},
   "source": [
    "## lets deal with the column time_taken\n",
    "## by replacing it with the total duration in minutes \n"
   ]
  },
  {
   "cell_type": "code",
   "execution_count": 28,
   "id": "9537510f",
   "metadata": {},
   "outputs": [],
   "source": [
    "\n",
    "time_t = flights['time_taken'].values\n",
    "\n",
    "new = []\n",
    "for i in time_t:\n",
    "    new.append(i.split(' '))\n",
    "\n",
    "final = []\n",
    "for i in new:\n",
    "    h = i[0]\n",
    "    m = i[1]\n",
    "    hours = h[:2]\n",
    "    \n",
    "    replacements = {'2h':'2','7h':'7','5h':'5','1.':'1'}\n",
    "    for key,value in replacements.items():\n",
    "        hours = hours.replace(key,value)\n",
    "        \n",
    "    hours = int(hours)*60\n",
    "    mins = m[:2]\n",
    "    mins = mins.replace('m','0')\n",
    "    mins = int(mins)\n",
    "    final.append(hours+mins)\n",
    "\n"
   ]
  },
  {
   "cell_type": "code",
   "execution_count": 29,
   "id": "cca98898",
   "metadata": {},
   "outputs": [],
   "source": [
    "flights['duration'] = final\n",
    "flights.drop(columns=['time_taken'],inplace=True)"
   ]
  },
  {
   "cell_type": "code",
   "execution_count": 30,
   "id": "9af2cfb8",
   "metadata": {},
   "outputs": [
    {
     "data": {
      "text/html": [
       "<div>\n",
       "<style scoped>\n",
       "    .dataframe tbody tr th:only-of-type {\n",
       "        vertical-align: middle;\n",
       "    }\n",
       "\n",
       "    .dataframe tbody tr th {\n",
       "        vertical-align: top;\n",
       "    }\n",
       "\n",
       "    .dataframe thead th {\n",
       "        text-align: right;\n",
       "    }\n",
       "</style>\n",
       "<table border=\"1\" class=\"dataframe\">\n",
       "  <thead>\n",
       "    <tr style=\"text-align: right;\">\n",
       "      <th></th>\n",
       "      <th>airline</th>\n",
       "      <th>ch_code</th>\n",
       "      <th>num_code</th>\n",
       "      <th>from</th>\n",
       "      <th>stop</th>\n",
       "      <th>to</th>\n",
       "      <th>price</th>\n",
       "      <th>class</th>\n",
       "      <th>year</th>\n",
       "      <th>month</th>\n",
       "      <th>day</th>\n",
       "      <th>arrival</th>\n",
       "      <th>departure</th>\n",
       "      <th>duration</th>\n",
       "    </tr>\n",
       "  </thead>\n",
       "  <tbody>\n",
       "    <tr>\n",
       "      <th>0</th>\n",
       "      <td>Air India</td>\n",
       "      <td>AI</td>\n",
       "      <td>868</td>\n",
       "      <td>Delhi</td>\n",
       "      <td>0</td>\n",
       "      <td>Mumbai</td>\n",
       "      <td>25612</td>\n",
       "      <td>bussines</td>\n",
       "      <td>2022</td>\n",
       "      <td>2</td>\n",
       "      <td>11</td>\n",
       "      <td>afternoom</td>\n",
       "      <td>afternoom</td>\n",
       "      <td>120</td>\n",
       "    </tr>\n",
       "    <tr>\n",
       "      <th>1</th>\n",
       "      <td>Air India</td>\n",
       "      <td>AI</td>\n",
       "      <td>624</td>\n",
       "      <td>Delhi</td>\n",
       "      <td>0</td>\n",
       "      <td>Mumbai</td>\n",
       "      <td>25612</td>\n",
       "      <td>bussines</td>\n",
       "      <td>2022</td>\n",
       "      <td>2</td>\n",
       "      <td>11</td>\n",
       "      <td>afternoom</td>\n",
       "      <td>afternoom</td>\n",
       "      <td>135</td>\n",
       "    </tr>\n",
       "    <tr>\n",
       "      <th>2</th>\n",
       "      <td>Air India</td>\n",
       "      <td>AI</td>\n",
       "      <td>531</td>\n",
       "      <td>Delhi</td>\n",
       "      <td>1</td>\n",
       "      <td>Mumbai</td>\n",
       "      <td>42220</td>\n",
       "      <td>bussines</td>\n",
       "      <td>2022</td>\n",
       "      <td>2</td>\n",
       "      <td>11</td>\n",
       "      <td>afternoom</td>\n",
       "      <td>afternoom</td>\n",
       "      <td>1485</td>\n",
       "    </tr>\n",
       "    <tr>\n",
       "      <th>3</th>\n",
       "      <td>Air India</td>\n",
       "      <td>AI</td>\n",
       "      <td>839</td>\n",
       "      <td>Delhi</td>\n",
       "      <td>1</td>\n",
       "      <td>Mumbai</td>\n",
       "      <td>44450</td>\n",
       "      <td>bussines</td>\n",
       "      <td>2022</td>\n",
       "      <td>2</td>\n",
       "      <td>11</td>\n",
       "      <td>afternoom</td>\n",
       "      <td>afternoom</td>\n",
       "      <td>1590</td>\n",
       "    </tr>\n",
       "  </tbody>\n",
       "</table>\n",
       "</div>"
      ],
      "text/plain": [
       "     airline ch_code  num_code   from  stop      to  price     class  year  \\\n",
       "0  Air India      AI       868  Delhi     0  Mumbai  25612  bussines  2022   \n",
       "1  Air India      AI       624  Delhi     0  Mumbai  25612  bussines  2022   \n",
       "2  Air India      AI       531  Delhi     1  Mumbai  42220  bussines  2022   \n",
       "3  Air India      AI       839  Delhi     1  Mumbai  44450  bussines  2022   \n",
       "\n",
       "   month  day    arrival  departure  duration  \n",
       "0      2   11  afternoom  afternoom       120  \n",
       "1      2   11  afternoom  afternoom       135  \n",
       "2      2   11  afternoom  afternoom      1485  \n",
       "3      2   11  afternoom  afternoom      1590  "
      ]
     },
     "execution_count": 30,
     "metadata": {},
     "output_type": "execute_result"
    }
   ],
   "source": [
    "flights.head(4)"
   ]
  },
  {
   "cell_type": "code",
   "execution_count": 31,
   "id": "7c7a4e11",
   "metadata": {},
   "outputs": [],
   "source": [
    "# ch_code and num_core are not usefull so : \n",
    "flights.drop(columns=['ch_code','num_code'],inplace=True)"
   ]
  },
  {
   "cell_type": "code",
   "execution_count": null,
   "id": "2170e96e",
   "metadata": {},
   "outputs": [],
   "source": []
  },
  {
   "cell_type": "code",
   "execution_count": null,
   "id": "1fd676bc",
   "metadata": {},
   "outputs": [],
   "source": []
  },
  {
   "cell_type": "code",
   "execution_count": null,
   "id": "c0bfcd5b",
   "metadata": {},
   "outputs": [],
   "source": []
  },
  {
   "cell_type": "markdown",
   "id": "d3ef92b5",
   "metadata": {},
   "source": [
    "#  EXPLORIDATORY ANALYSIS"
   ]
  },
  {
   "cell_type": "markdown",
   "id": "a1d4771a",
   "metadata": {},
   "source": [
    "### first lets see for how many years and months we have data:\n"
   ]
  },
  {
   "cell_type": "code",
   "execution_count": 32,
   "id": "23cd86f5",
   "metadata": {},
   "outputs": [
    {
     "name": "stdout",
     "output_type": "stream",
     "text": [
      "we have  data for 1 years and 2  months\n"
     ]
    }
   ],
   "source": [
    "print(f\"we have  data for {flights['year'].nunique()} years and {flights['month'].nunique()}  months\")"
   ]
  },
  {
   "cell_type": "markdown",
   "id": "48c549be",
   "metadata": {},
   "source": [
    "#### so we drop year\n"
   ]
  },
  {
   "cell_type": "code",
   "execution_count": 33,
   "id": "b01af110",
   "metadata": {},
   "outputs": [],
   "source": [
    "flights.drop(columns=['year'],inplace=True)"
   ]
  },
  {
   "cell_type": "code",
   "execution_count": null,
   "id": "584e7a77",
   "metadata": {},
   "outputs": [],
   "source": []
  },
  {
   "cell_type": "markdown",
   "id": "c8642161",
   "metadata": {},
   "source": [
    "###  lets see how many airline companies and cities we have:\n"
   ]
  },
  {
   "cell_type": "code",
   "execution_count": 34,
   "id": "4f14c88d",
   "metadata": {},
   "outputs": [
    {
     "name": "stdout",
     "output_type": "stream",
     "text": [
      "we have 8 number of airlines , 6 departure cities and 6 destination cities\n"
     ]
    }
   ],
   "source": [
    "print(f\"we have {flights['airline'].nunique()} number of airlines , {flights['from'].nunique()} departure cities and {flights['to'].nunique()} destination cities\")"
   ]
  },
  {
   "cell_type": "code",
   "execution_count": null,
   "id": "0e62a805",
   "metadata": {},
   "outputs": [],
   "source": []
  },
  {
   "cell_type": "markdown",
   "id": "c42d923d",
   "metadata": {},
   "source": [
    "### now lets see some general statistical info"
   ]
  },
  {
   "cell_type": "code",
   "execution_count": 35,
   "id": "a175c297",
   "metadata": {},
   "outputs": [
    {
     "data": {
      "text/html": [
       "<div>\n",
       "<style scoped>\n",
       "    .dataframe tbody tr th:only-of-type {\n",
       "        vertical-align: middle;\n",
       "    }\n",
       "\n",
       "    .dataframe tbody tr th {\n",
       "        vertical-align: top;\n",
       "    }\n",
       "\n",
       "    .dataframe thead th {\n",
       "        text-align: right;\n",
       "    }\n",
       "</style>\n",
       "<table border=\"1\" class=\"dataframe\">\n",
       "  <thead>\n",
       "    <tr style=\"text-align: right;\">\n",
       "      <th></th>\n",
       "      <th>stop</th>\n",
       "      <th>price</th>\n",
       "      <th>month</th>\n",
       "      <th>day</th>\n",
       "      <th>duration</th>\n",
       "    </tr>\n",
       "  </thead>\n",
       "  <tbody>\n",
       "    <tr>\n",
       "      <th>count</th>\n",
       "      <td>300261.000000</td>\n",
       "      <td>300261.000000</td>\n",
       "      <td>300261.000000</td>\n",
       "      <td>300261.000000</td>\n",
       "      <td>300261.000000</td>\n",
       "    </tr>\n",
       "    <tr>\n",
       "      <th>mean</th>\n",
       "      <td>0.924213</td>\n",
       "      <td>20883.717666</td>\n",
       "      <td>2.664995</td>\n",
       "      <td>17.384619</td>\n",
       "      <td>733.065416</td>\n",
       "    </tr>\n",
       "    <tr>\n",
       "      <th>std</th>\n",
       "      <td>0.398188</td>\n",
       "      <td>22695.911266</td>\n",
       "      <td>0.471993</td>\n",
       "      <td>8.074005</td>\n",
       "      <td>431.576241</td>\n",
       "    </tr>\n",
       "    <tr>\n",
       "      <th>min</th>\n",
       "      <td>0.000000</td>\n",
       "      <td>1105.000000</td>\n",
       "      <td>2.000000</td>\n",
       "      <td>1.000000</td>\n",
       "      <td>50.000000</td>\n",
       "    </tr>\n",
       "    <tr>\n",
       "      <th>25%</th>\n",
       "      <td>1.000000</td>\n",
       "      <td>4783.000000</td>\n",
       "      <td>2.000000</td>\n",
       "      <td>12.000000</td>\n",
       "      <td>405.000000</td>\n",
       "    </tr>\n",
       "    <tr>\n",
       "      <th>50%</th>\n",
       "      <td>1.000000</td>\n",
       "      <td>7425.000000</td>\n",
       "      <td>3.000000</td>\n",
       "      <td>18.000000</td>\n",
       "      <td>675.000000</td>\n",
       "    </tr>\n",
       "    <tr>\n",
       "      <th>75%</th>\n",
       "      <td>1.000000</td>\n",
       "      <td>42521.000000</td>\n",
       "      <td>3.000000</td>\n",
       "      <td>24.000000</td>\n",
       "      <td>970.000000</td>\n",
       "    </tr>\n",
       "    <tr>\n",
       "      <th>max</th>\n",
       "      <td>2.000000</td>\n",
       "      <td>123071.000000</td>\n",
       "      <td>3.000000</td>\n",
       "      <td>31.000000</td>\n",
       "      <td>2990.000000</td>\n",
       "    </tr>\n",
       "  </tbody>\n",
       "</table>\n",
       "</div>"
      ],
      "text/plain": [
       "                stop          price          month            day  \\\n",
       "count  300261.000000  300261.000000  300261.000000  300261.000000   \n",
       "mean        0.924213   20883.717666       2.664995      17.384619   \n",
       "std         0.398188   22695.911266       0.471993       8.074005   \n",
       "min         0.000000    1105.000000       2.000000       1.000000   \n",
       "25%         1.000000    4783.000000       2.000000      12.000000   \n",
       "50%         1.000000    7425.000000       3.000000      18.000000   \n",
       "75%         1.000000   42521.000000       3.000000      24.000000   \n",
       "max         2.000000  123071.000000       3.000000      31.000000   \n",
       "\n",
       "            duration  \n",
       "count  300261.000000  \n",
       "mean      733.065416  \n",
       "std       431.576241  \n",
       "min        50.000000  \n",
       "25%       405.000000  \n",
       "50%       675.000000  \n",
       "75%       970.000000  \n",
       "max      2990.000000  "
      ]
     },
     "execution_count": 35,
     "metadata": {},
     "output_type": "execute_result"
    }
   ],
   "source": [
    "flights.describe()"
   ]
  },
  {
   "cell_type": "code",
   "execution_count": 36,
   "id": "5e83801c",
   "metadata": {},
   "outputs": [],
   "source": [
    "import matplotlib.pyplot as plt\n",
    "\n",
    "import seaborn as sns\n"
   ]
  },
  {
   "cell_type": "markdown",
   "id": "4009f2ca",
   "metadata": {},
   "source": [
    "#### ignore warnings "
   ]
  },
  {
   "cell_type": "code",
   "execution_count": 37,
   "id": "3a52527c",
   "metadata": {},
   "outputs": [],
   "source": [
    "import warnings \n",
    "\n",
    "warnings.filterwarnings(\"ignore\")"
   ]
  },
  {
   "cell_type": "markdown",
   "id": "02d05f34",
   "metadata": {},
   "source": [
    "### lets see the distribution of the prices "
   ]
  },
  {
   "cell_type": "code",
   "execution_count": 38,
   "id": "d4ce53f2",
   "metadata": {},
   "outputs": [
    {
     "data": {
      "text/plain": [
       "<Axes: xlabel='price', ylabel='Count'>"
      ]
     },
     "execution_count": 38,
     "metadata": {},
     "output_type": "execute_result"
    },
    {
     "data": {
      "image/png": "[encoded data removed]",
      "text/plain": [
       "<Figure size 640x480 with 1 Axes>"
      ]
     },
     "metadata": {},
     "output_type": "display_data"
    }
   ],
   "source": [
    "\n",
    "\n",
    "\n",
    "sns.histplot(flights['price'])"
   ]
  },
  {
   "cell_type": "markdown",
   "id": "0bd77553",
   "metadata": {},
   "source": [
    "###  seems like we have an outlier\n"
   ]
  },
  {
   "cell_type": "code",
   "execution_count": 39,
   "id": "7cd3995c",
   "metadata": {},
   "outputs": [
    {
     "data": {
      "text/html": [
       "<div>\n",
       "<style scoped>\n",
       "    .dataframe tbody tr th:only-of-type {\n",
       "        vertical-align: middle;\n",
       "    }\n",
       "\n",
       "    .dataframe tbody tr th {\n",
       "        vertical-align: top;\n",
       "    }\n",
       "\n",
       "    .dataframe thead th {\n",
       "        text-align: right;\n",
       "    }\n",
       "</style>\n",
       "<table border=\"1\" class=\"dataframe\">\n",
       "  <thead>\n",
       "    <tr style=\"text-align: right;\">\n",
       "      <th></th>\n",
       "      <th>airline</th>\n",
       "      <th>from</th>\n",
       "      <th>stop</th>\n",
       "      <th>to</th>\n",
       "      <th>price</th>\n",
       "      <th>class</th>\n",
       "      <th>month</th>\n",
       "      <th>day</th>\n",
       "      <th>arrival</th>\n",
       "      <th>departure</th>\n",
       "      <th>duration</th>\n",
       "    </tr>\n",
       "  </thead>\n",
       "  <tbody>\n",
       "    <tr>\n",
       "      <th>54711</th>\n",
       "      <td>Vistara</td>\n",
       "      <td>Kolkata</td>\n",
       "      <td>1</td>\n",
       "      <td>Delhi</td>\n",
       "      <td>123071</td>\n",
       "      <td>bussines</td>\n",
       "      <td>2</td>\n",
       "      <td>13</td>\n",
       "      <td>afternoom</td>\n",
       "      <td>morning</td>\n",
       "      <td>810</td>\n",
       "    </tr>\n",
       "  </tbody>\n",
       "</table>\n",
       "</div>"
      ],
      "text/plain": [
       "       airline     from  stop     to   price     class  month  day    arrival  \\\n",
       "54711  Vistara  Kolkata     1  Delhi  123071  bussines      2   13  afternoom   \n",
       "\n",
       "      departure  duration  \n",
       "54711   morning       810  "
      ]
     },
     "execution_count": 39,
     "metadata": {},
     "output_type": "execute_result"
    }
   ],
   "source": [
    "flights.query('price > 120000')"
   ]
  },
  {
   "cell_type": "code",
   "execution_count": null,
   "id": "b78d8d67",
   "metadata": {},
   "outputs": [],
   "source": []
  },
  {
   "cell_type": "markdown",
   "id": "87987cb2",
   "metadata": {},
   "source": [
    "### so we will use z-scores to see : \n",
    "#### but because its a bussines class and we have two distributions as we can see from the graph, we will use the business class mean and std to see if its actualy an outlier"
   ]
  },
  {
   "cell_type": "code",
   "execution_count": 40,
   "id": "d92a5980",
   "metadata": {},
   "outputs": [
    {
     "name": "stdout",
     "output_type": "stream",
     "text": [
      " mean of bussines is 52540.08112357868 and std = 12969.245242027398\n",
      " z value is equal to : 5.438321009449558 that means this price is 5.438321009449558 stds away from the mean so we will consider it an outlier\n"
     ]
    }
   ],
   "source": [
    " \n",
    "\n",
    "bus = flights.loc[flights['class']=='bussines']\n",
    "\n",
    "\n",
    "mean = np.mean(bus.price)\n",
    "std = np.std(bus.price)\n",
    "\n",
    "print(f\" mean of bussines is {mean} and std = {std}\")\n",
    "\n",
    "threshold = 4\n",
    "\n",
    "z = (123071-mean)/std \n",
    "if z > threshold: \n",
    "    print(f\" z value is equal to : {z} that means this price is {z} stds away from the mean so we will consider it an outlier\" )\n"
   ]
  },
  {
   "cell_type": "code",
   "execution_count": 41,
   "id": "2643ede8",
   "metadata": {},
   "outputs": [],
   "source": [
    "flights.drop(flights[flights['price'] == 123071].index,inplace=True)\n",
    "# droped "
   ]
  },
  {
   "cell_type": "markdown",
   "id": "1b0d262c",
   "metadata": {},
   "source": [
    "### lets see the distribution of stops "
   ]
  },
  {
   "cell_type": "code",
   "execution_count": 42,
   "id": "a94c4b83",
   "metadata": {},
   "outputs": [
    {
     "data": {
      "text/plain": [
       "<Axes: xlabel='stop', ylabel='Count'>"
      ]
     },
     "execution_count": 42,
     "metadata": {},
     "output_type": "execute_result"
    },
    {
     "data": {
      "image/png": "[encoded data removed]",
      "text/plain": [
       "<Figure size 640x480 with 1 Axes>"
      ]
     },
     "metadata": {},
     "output_type": "display_data"
    }
   ],
   "source": [
    "sns.histplot(flights.stop)"
   ]
  },
  {
   "cell_type": "markdown",
   "id": "c445f205",
   "metadata": {},
   "source": [
    "### nothing special here a lot of flights with 1 stop and much less with 0 and 2 "
   ]
  },
  {
   "cell_type": "code",
   "execution_count": null,
   "id": "84083cea",
   "metadata": {},
   "outputs": [],
   "source": []
  },
  {
   "cell_type": "code",
   "execution_count": null,
   "id": "eb80f5c8",
   "metadata": {},
   "outputs": [],
   "source": []
  },
  {
   "cell_type": "code",
   "execution_count": null,
   "id": "7927900c",
   "metadata": {},
   "outputs": [],
   "source": []
  },
  {
   "cell_type": "markdown",
   "id": "49d7a3d1",
   "metadata": {},
   "source": [
    "## lets see the distribution of arivals and departures"
   ]
  },
  {
   "cell_type": "code",
   "execution_count": 43,
   "id": "f6e46a16",
   "metadata": {},
   "outputs": [
    {
     "data": {
      "image/png": "[encoded data removed]",
      "text/plain": [
       "<Figure size 640x480 with 2 Axes>"
      ]
     },
     "metadata": {},
     "output_type": "display_data"
    }
   ],
   "source": [
    "x = ['arrival','departure']\n",
    "for i in range(1,len(x)+1):\n",
    "    \n",
    "    ax = plt.subplot(2,1,i)\n",
    "    plt.tight_layout(pad=5.0)\n",
    "    sns.histplot(flights[x[i-1]])"
   ]
  },
  {
   "cell_type": "markdown",
   "id": "901dbe88",
   "metadata": {},
   "source": [
    "#### everithing is okey most flights are leaving in the afternoom and ariving also at the same space of time "
   ]
  },
  {
   "cell_type": "code",
   "execution_count": null,
   "id": "bff2eedf",
   "metadata": {},
   "outputs": [],
   "source": []
  },
  {
   "cell_type": "code",
   "execution_count": null,
   "id": "08af00d1",
   "metadata": {},
   "outputs": [],
   "source": []
  },
  {
   "cell_type": "code",
   "execution_count": null,
   "id": "6b056185",
   "metadata": {},
   "outputs": [],
   "source": []
  },
  {
   "cell_type": "markdown",
   "id": "c2d1b64c",
   "metadata": {},
   "source": [
    "### lets see the distribution of airlines total flights"
   ]
  },
  {
   "cell_type": "code",
   "execution_count": 44,
   "id": "8b41552f",
   "metadata": {},
   "outputs": [],
   "source": [
    "airlines = flights.groupby('airline').count()['from'].reset_index().rename(columns={'from':'total_flights'})"
   ]
  },
  {
   "cell_type": "code",
   "execution_count": 45,
   "id": "1c9e1de3",
   "metadata": {},
   "outputs": [
    {
     "data": {
      "text/html": [
       "<div>\n",
       "<style scoped>\n",
       "    .dataframe tbody tr th:only-of-type {\n",
       "        vertical-align: middle;\n",
       "    }\n",
       "\n",
       "    .dataframe tbody tr th {\n",
       "        vertical-align: top;\n",
       "    }\n",
       "\n",
       "    .dataframe thead th {\n",
       "        text-align: right;\n",
       "    }\n",
       "</style>\n",
       "<table border=\"1\" class=\"dataframe\">\n",
       "  <thead>\n",
       "    <tr style=\"text-align: right;\">\n",
       "      <th></th>\n",
       "      <th>airline</th>\n",
       "      <th>total_flights</th>\n",
       "    </tr>\n",
       "  </thead>\n",
       "  <tbody>\n",
       "    <tr>\n",
       "      <th>0</th>\n",
       "      <td>Air India</td>\n",
       "      <td>80894</td>\n",
       "    </tr>\n",
       "    <tr>\n",
       "      <th>1</th>\n",
       "      <td>AirAsia</td>\n",
       "      <td>16098</td>\n",
       "    </tr>\n",
       "    <tr>\n",
       "      <th>2</th>\n",
       "      <td>GO FIRST</td>\n",
       "      <td>23176</td>\n",
       "    </tr>\n",
       "    <tr>\n",
       "      <th>3</th>\n",
       "      <td>Indigo</td>\n",
       "      <td>43120</td>\n",
       "    </tr>\n",
       "    <tr>\n",
       "      <th>4</th>\n",
       "      <td>SpiceJet</td>\n",
       "      <td>9011</td>\n",
       "    </tr>\n",
       "    <tr>\n",
       "      <th>5</th>\n",
       "      <td>StarAir</td>\n",
       "      <td>61</td>\n",
       "    </tr>\n",
       "    <tr>\n",
       "      <th>6</th>\n",
       "      <td>Trujet</td>\n",
       "      <td>41</td>\n",
       "    </tr>\n",
       "    <tr>\n",
       "      <th>7</th>\n",
       "      <td>Vistara</td>\n",
       "      <td>127858</td>\n",
       "    </tr>\n",
       "  </tbody>\n",
       "</table>\n",
       "</div>"
      ],
      "text/plain": [
       "     airline  total_flights\n",
       "0  Air India          80894\n",
       "1    AirAsia          16098\n",
       "2   GO FIRST          23176\n",
       "3     Indigo          43120\n",
       "4   SpiceJet           9011\n",
       "5    StarAir             61\n",
       "6     Trujet             41\n",
       "7    Vistara         127858"
      ]
     },
     "execution_count": 45,
     "metadata": {},
     "output_type": "execute_result"
    }
   ],
   "source": [
    "airlines"
   ]
  },
  {
   "cell_type": "code",
   "execution_count": 46,
   "id": "2bf3c7ca",
   "metadata": {},
   "outputs": [
    {
     "data": {
      "text/plain": [
       "<BarContainer object of 8 artists>"
      ]
     },
     "execution_count": 46,
     "metadata": {},
     "output_type": "execute_result"
    },
    {
     "data": {
      "image/png": "[encoded data removed]",
      "text/plain": [
       "<Figure size 640x480 with 1 Axes>"
      ]
     },
     "metadata": {},
     "output_type": "display_data"
    }
   ],
   "source": [
    "airlines = airlines.sort_values(by='total_flights')\n",
    "fig , ax = plt.subplots()\n",
    "ax.bar(airlines['airline'],airlines['total_flights'])\n"
   ]
  },
  {
   "cell_type": "markdown",
   "id": "a8e298d3",
   "metadata": {},
   "source": [
    "##### we can see there is a big diference in the total flights per airline company ! \n",
    "#### especialy with StarAir   and Trujet   \n",
    "##### now we will try to figure out why"
   ]
  },
  {
   "cell_type": "code",
   "execution_count": 47,
   "id": "0c9544c5",
   "metadata": {},
   "outputs": [],
   "source": [
    "\n",
    "\n",
    "mean_airline = flights.groupby(['airline','class'])['price'].aggregate('mean')\n",
    "\n",
    "\n"
   ]
  },
  {
   "cell_type": "code",
   "execution_count": 48,
   "id": "428cdec5",
   "metadata": {
    "scrolled": true
   },
   "outputs": [
    {
     "data": {
      "text/plain": [
       "airline    class   \n",
       "Air India  bussines    47131.039212\n",
       "           economy      7313.730144\n",
       "AirAsia    economy      4091.072742\n",
       "GO FIRST   economy      5651.954306\n",
       "Indigo     economy      5324.216303\n",
       "SpiceJet   economy      6179.278881\n",
       "StarAir    economy      4932.655738\n",
       "Trujet     economy      3244.634146\n",
       "Vistara    bussines    55475.912144\n",
       "           economy      7806.943645\n",
       "Name: price, dtype: float64"
      ]
     },
     "execution_count": 48,
     "metadata": {},
     "output_type": "execute_result"
    }
   ],
   "source": [
    "mean_airline"
   ]
  },
  {
   "cell_type": "markdown",
   "id": "3e69b632",
   "metadata": {},
   "source": [
    "#### first reason is that only two airlines those with the most flights ,can provide a bussines class "
   ]
  },
  {
   "cell_type": "markdown",
   "id": "d2d831af",
   "metadata": {},
   "source": [
    "#### lets see what else might hapening \n",
    "#### we will se  if they dont have flights from all to all places"
   ]
  },
  {
   "cell_type": "code",
   "execution_count": 49,
   "id": "21074f96",
   "metadata": {},
   "outputs": [],
   "source": [
    "def check(airline):\n",
    "    a = flights.loc[flights['airline'] == airline, 'from'].value_counts()\n",
    "    b = flights.loc[flights['airline'] == airline, 'to'].value_counts()\n",
    "    return(f' airline {airline} have departures from cities:  {list(a.index.values)} and destinations the cities {list(b.index.values)}')\n",
    "    "
   ]
  },
  {
   "cell_type": "code",
   "execution_count": 50,
   "id": "7206bdd8",
   "metadata": {},
   "outputs": [
    {
     "name": "stdout",
     "output_type": "stream",
     "text": [
      " airline Trujet have departures from cities:  ['Hyderabad', 'Mumbai', 'Bangalore'] and destinations the cities ['Bangalore', 'Hyderabad', 'Mumbai']\n",
      "['-', '-', '-', '-', '-', '-', '-', '-', '-', '-']\n",
      " airline StarAir have departures from cities:  ['Bangalore', 'Hyderabad'] and destinations the cities ['Hyderabad', 'Bangalore']\n",
      "['-', '-', '-', '-', '-', '-', '-', '-', '-', '-']\n",
      " airline Vistara have departures from cities:  ['Mumbai', 'Bangalore', 'Delhi', 'Hyderabad', 'Kolkata', 'Chennai'] and destinations the cities ['Mumbai', 'Bangalore', 'Delhi', 'Hyderabad', 'Kolkata', 'Chennai']\n",
      "['-', '-', '-', '-', '-', '-', '-', '-', '-', '-']\n",
      " airline SpiceJet have departures from cities:  ['Delhi', 'Kolkata', 'Mumbai', 'Bangalore', 'Chennai', 'Hyderabad'] and destinations the cities ['Delhi', 'Kolkata', 'Mumbai', 'Chennai', 'Bangalore', 'Hyderabad']\n",
      "['-', '-', '-', '-', '-', '-', '-', '-', '-', '-']\n",
      " airline Indigo have departures from cities:  ['Delhi', 'Mumbai', 'Kolkata', 'Bangalore', 'Chennai', 'Hyderabad'] and destinations the cities ['Kolkata', 'Delhi', 'Mumbai', 'Bangalore', 'Chennai', 'Hyderabad']\n",
      "['-', '-', '-', '-', '-', '-', '-', '-', '-', '-']\n",
      " airline GO FIRST have departures from cities:  ['Delhi', 'Mumbai', 'Bangalore', 'Kolkata', 'Hyderabad', 'Chennai'] and destinations the cities ['Delhi', 'Mumbai', 'Bangalore', 'Kolkata', 'Hyderabad', 'Chennai']\n",
      "['-', '-', '-', '-', '-', '-', '-', '-', '-', '-']\n",
      " airline Air India have departures from cities:  ['Mumbai', 'Delhi', 'Kolkata', 'Bangalore', 'Hyderabad', 'Chennai'] and destinations the cities ['Mumbai', 'Delhi', 'Kolkata', 'Hyderabad', 'Bangalore', 'Chennai']\n"
     ]
    }
   ],
   "source": [
    "a = check('Trujet')\n",
    "print(a)\n",
    "print(['-' for i in range(10)])\n",
    "a = check('StarAir')\n",
    "print(a)\n",
    "print(['-' for i in range(10)])\n",
    "a = check('Vistara')\n",
    "print(a)\n",
    "print(['-' for i in range(10)])\n",
    "a = check('SpiceJet')\n",
    "print(a)\n",
    "print(['-' for i in range(10)])\n",
    "a = check('Indigo')\n",
    "print(a)\n",
    "print(['-' for i in range(10)])\n",
    "a = check('GO FIRST')\n",
    "print(a)\n",
    "print(['-' for i in range(10)])\n",
    "a = check('Air India')\n",
    "print(a)"
   ]
  },
  {
   "cell_type": "markdown",
   "id": "dc58678b",
   "metadata": {},
   "source": [
    "### this might be a reason because they have flights between 2 and 3 cities when we have 6 cities , in contrast the other companies flight from and to all cities, but we cant investigate further with the current data "
   ]
  },
  {
   "cell_type": "code",
   "execution_count": null,
   "id": "df121334",
   "metadata": {},
   "outputs": [],
   "source": []
  },
  {
   "cell_type": "code",
   "execution_count": null,
   "id": "5c2fc843",
   "metadata": {},
   "outputs": [],
   "source": []
  },
  {
   "cell_type": "code",
   "execution_count": null,
   "id": "1fe984d1",
   "metadata": {},
   "outputs": [],
   "source": []
  },
  {
   "cell_type": "markdown",
   "id": "41934813",
   "metadata": {},
   "source": [
    "### lets now see the distribution of the starting cities and arriving cities :"
   ]
  },
  {
   "cell_type": "code",
   "execution_count": 51,
   "id": "3e4931ee",
   "metadata": {},
   "outputs": [
    {
     "data": {
      "image/png": "[encoded data removed]",
      "text/plain": [
       "<Figure size 640x480 with 2 Axes>"
      ]
     },
     "metadata": {},
     "output_type": "display_data"
    }
   ],
   "source": [
    "x = ['from','to']\n",
    "for i in range(1,len(x)+1):\n",
    "    \n",
    "    ax = plt.subplot(2,1,i)\n",
    "    plt.tight_layout(pad=5.0)\n",
    "    plt.xticks(rotation=45)\n",
    "    sns.histplot(flights[x[i-1]])"
   ]
  },
  {
   "cell_type": "markdown",
   "id": "663f2c41",
   "metadata": {},
   "source": [
    "#### almost evenly distributed but Delhi and Mumbai as the bigest cities have more flights"
   ]
  },
  {
   "cell_type": "code",
   "execution_count": null,
   "id": "f529a4b5",
   "metadata": {},
   "outputs": [],
   "source": []
  },
  {
   "cell_type": "code",
   "execution_count": null,
   "id": "e3e3b655",
   "metadata": {},
   "outputs": [],
   "source": []
  },
  {
   "cell_type": "markdown",
   "id": "38a8e038",
   "metadata": {},
   "source": [
    "### lets now see the distribution of flights in  months and days :\n"
   ]
  },
  {
   "cell_type": "code",
   "execution_count": null,
   "id": "9cb247b0",
   "metadata": {},
   "outputs": [],
   "source": []
  },
  {
   "cell_type": "code",
   "execution_count": null,
   "id": "36fb6ad8",
   "metadata": {},
   "outputs": [],
   "source": []
  },
  {
   "cell_type": "code",
   "execution_count": 52,
   "id": "7f7a139d",
   "metadata": {},
   "outputs": [
    {
     "data": {
      "image/png": "[encoded data removed]",
      "text/plain": [
       "<Figure size 640x480 with 2 Axes>"
      ]
     },
     "metadata": {},
     "output_type": "display_data"
    }
   ],
   "source": [
    "x = ['month','day']\n",
    "for i in range(1,len(x)+1):\n",
    "    \n",
    "    ax = plt.subplot(2,1,i)\n",
    "    plt.tight_layout(pad=5.0)\n",
    "    plt.xticks(rotation=45)\n",
    "    sns.histplot(flights[x[i-1]])"
   ]
  },
  {
   "cell_type": "markdown",
   "id": "f7763b55",
   "metadata": {},
   "source": [
    "### what we can unserstand from here is that people tend to fly around 13-27 of month but we have data for only two months , so we cant say for sure"
   ]
  },
  {
   "cell_type": "code",
   "execution_count": null,
   "id": "1604cbb2",
   "metadata": {},
   "outputs": [],
   "source": []
  },
  {
   "cell_type": "code",
   "execution_count": null,
   "id": "c4480bd2",
   "metadata": {},
   "outputs": [],
   "source": []
  },
  {
   "cell_type": "code",
   "execution_count": null,
   "id": "a84d25af",
   "metadata": {},
   "outputs": [],
   "source": []
  },
  {
   "cell_type": "markdown",
   "id": "43bddbd4",
   "metadata": {},
   "source": [
    "\n",
    "### and last lets check the distribution of class : \n"
   ]
  },
  {
   "cell_type": "code",
   "execution_count": 53,
   "id": "cee4d58a",
   "metadata": {},
   "outputs": [
    {
     "data": {
      "text/plain": [
       "<Axes: xlabel='class', ylabel='Count'>"
      ]
     },
     "execution_count": 53,
     "metadata": {},
     "output_type": "execute_result"
    },
    {
     "data": {
      "image/png": "[encoded data removed]",
      "text/plain": [
       "<Figure size 640x480 with 1 Axes>"
      ]
     },
     "metadata": {},
     "output_type": "display_data"
    }
   ],
   "source": [
    "sns.histplot(flights['class'])"
   ]
  },
  {
   "cell_type": "markdown",
   "id": "1e774aaa",
   "metadata": {},
   "source": [
    "### and as we expected busines class flights are less than economy class"
   ]
  },
  {
   "cell_type": "code",
   "execution_count": null,
   "id": "54569f9a",
   "metadata": {},
   "outputs": [],
   "source": []
  },
  {
   "cell_type": "code",
   "execution_count": null,
   "id": "de2c8708",
   "metadata": {},
   "outputs": [],
   "source": []
  },
  {
   "cell_type": "code",
   "execution_count": null,
   "id": "a19cfb54",
   "metadata": {},
   "outputs": [],
   "source": []
  },
  {
   "cell_type": "markdown",
   "id": "773efe0a",
   "metadata": {},
   "source": [
    "# correlations "
   ]
  },
  {
   "cell_type": "markdown",
   "id": "76bbed12",
   "metadata": {},
   "source": [
    "### before we see the correlations we have to convert the categorical columns to numeric ones\n",
    "### but we will make a copy of the original dataframe and we will work with it"
   ]
  },
  {
   "cell_type": "code",
   "execution_count": 54,
   "id": "bf7b1f26",
   "metadata": {},
   "outputs": [],
   "source": [
    "\n",
    "\n",
    "df = flights.copy(deep=True)\n",
    "\n"
   ]
  },
  {
   "cell_type": "code",
   "execution_count": 55,
   "id": "7bf198bc",
   "metadata": {},
   "outputs": [
    {
     "data": {
      "text/html": [
       "<div>\n",
       "<style scoped>\n",
       "    .dataframe tbody tr th:only-of-type {\n",
       "        vertical-align: middle;\n",
       "    }\n",
       "\n",
       "    .dataframe tbody tr th {\n",
       "        vertical-align: top;\n",
       "    }\n",
       "\n",
       "    .dataframe thead th {\n",
       "        text-align: right;\n",
       "    }\n",
       "</style>\n",
       "<table border=\"1\" class=\"dataframe\">\n",
       "  <thead>\n",
       "    <tr style=\"text-align: right;\">\n",
       "      <th></th>\n",
       "      <th>airline</th>\n",
       "      <th>from</th>\n",
       "      <th>stop</th>\n",
       "      <th>to</th>\n",
       "      <th>price</th>\n",
       "      <th>class</th>\n",
       "      <th>month</th>\n",
       "      <th>day</th>\n",
       "      <th>arrival</th>\n",
       "      <th>departure</th>\n",
       "      <th>duration</th>\n",
       "    </tr>\n",
       "  </thead>\n",
       "  <tbody>\n",
       "    <tr>\n",
       "      <th>0</th>\n",
       "      <td>Air India</td>\n",
       "      <td>Delhi</td>\n",
       "      <td>0</td>\n",
       "      <td>Mumbai</td>\n",
       "      <td>25612</td>\n",
       "      <td>bussines</td>\n",
       "      <td>2</td>\n",
       "      <td>11</td>\n",
       "      <td>afternoom</td>\n",
       "      <td>afternoom</td>\n",
       "      <td>120</td>\n",
       "    </tr>\n",
       "  </tbody>\n",
       "</table>\n",
       "</div>"
      ],
      "text/plain": [
       "     airline   from  stop      to  price     class  month  day    arrival  \\\n",
       "0  Air India  Delhi     0  Mumbai  25612  bussines      2   11  afternoom   \n",
       "\n",
       "   departure  duration  \n",
       "0  afternoom       120  "
      ]
     },
     "execution_count": 55,
     "metadata": {},
     "output_type": "execute_result"
    }
   ],
   "source": [
    "df.head(1)"
   ]
  },
  {
   "cell_type": "code",
   "execution_count": 56,
   "id": "24e48f77",
   "metadata": {},
   "outputs": [],
   "source": [
    "from sklearn.preprocessing import LabelEncoder as le\n",
    "\n",
    "encoder1 = le()\n",
    "df['airline'] = encoder1.fit_transform(df['airline'])\n",
    "\n",
    "encoder2 = le()\n",
    "df['from'] = encoder2.fit_transform(df['from'])\n",
    "df['to'] = encoder2.transform(df['to'])\n",
    "\n",
    "df['class'].replace({'bussines':0,'economy':1},inplace=True)\n",
    "\n",
    "encoder3 = le()\n",
    "df['arrival'] = encoder3.fit_transform(df['arrival'])\n",
    "df['departure'] = encoder3.transform(df['departure'])\n",
    "\n",
    "\n"
   ]
  },
  {
   "cell_type": "code",
   "execution_count": 57,
   "id": "7b357efa",
   "metadata": {},
   "outputs": [
    {
     "data": {
      "text/html": [
       "<div>\n",
       "<style scoped>\n",
       "    .dataframe tbody tr th:only-of-type {\n",
       "        vertical-align: middle;\n",
       "    }\n",
       "\n",
       "    .dataframe tbody tr th {\n",
       "        vertical-align: top;\n",
       "    }\n",
       "\n",
       "    .dataframe thead th {\n",
       "        text-align: right;\n",
       "    }\n",
       "</style>\n",
       "<table border=\"1\" class=\"dataframe\">\n",
       "  <thead>\n",
       "    <tr style=\"text-align: right;\">\n",
       "      <th></th>\n",
       "      <th>airline</th>\n",
       "      <th>from</th>\n",
       "      <th>stop</th>\n",
       "      <th>to</th>\n",
       "      <th>price</th>\n",
       "      <th>class</th>\n",
       "      <th>month</th>\n",
       "      <th>day</th>\n",
       "      <th>arrival</th>\n",
       "      <th>departure</th>\n",
       "      <th>duration</th>\n",
       "    </tr>\n",
       "  </thead>\n",
       "  <tbody>\n",
       "    <tr>\n",
       "      <th>0</th>\n",
       "      <td>0</td>\n",
       "      <td>2</td>\n",
       "      <td>0</td>\n",
       "      <td>5</td>\n",
       "      <td>25612</td>\n",
       "      <td>0</td>\n",
       "      <td>2</td>\n",
       "      <td>11</td>\n",
       "      <td>0</td>\n",
       "      <td>0</td>\n",
       "      <td>120</td>\n",
       "    </tr>\n",
       "    <tr>\n",
       "      <th>1</th>\n",
       "      <td>0</td>\n",
       "      <td>2</td>\n",
       "      <td>0</td>\n",
       "      <td>5</td>\n",
       "      <td>25612</td>\n",
       "      <td>0</td>\n",
       "      <td>2</td>\n",
       "      <td>11</td>\n",
       "      <td>0</td>\n",
       "      <td>0</td>\n",
       "      <td>135</td>\n",
       "    </tr>\n",
       "    <tr>\n",
       "      <th>2</th>\n",
       "      <td>0</td>\n",
       "      <td>2</td>\n",
       "      <td>1</td>\n",
       "      <td>5</td>\n",
       "      <td>42220</td>\n",
       "      <td>0</td>\n",
       "      <td>2</td>\n",
       "      <td>11</td>\n",
       "      <td>0</td>\n",
       "      <td>0</td>\n",
       "      <td>1485</td>\n",
       "    </tr>\n",
       "    <tr>\n",
       "      <th>3</th>\n",
       "      <td>0</td>\n",
       "      <td>2</td>\n",
       "      <td>1</td>\n",
       "      <td>5</td>\n",
       "      <td>44450</td>\n",
       "      <td>0</td>\n",
       "      <td>2</td>\n",
       "      <td>11</td>\n",
       "      <td>0</td>\n",
       "      <td>0</td>\n",
       "      <td>1590</td>\n",
       "    </tr>\n",
       "    <tr>\n",
       "      <th>4</th>\n",
       "      <td>0</td>\n",
       "      <td>2</td>\n",
       "      <td>1</td>\n",
       "      <td>5</td>\n",
       "      <td>46690</td>\n",
       "      <td>0</td>\n",
       "      <td>2</td>\n",
       "      <td>11</td>\n",
       "      <td>0</td>\n",
       "      <td>0</td>\n",
       "      <td>400</td>\n",
       "    </tr>\n",
       "    <tr>\n",
       "      <th>5</th>\n",
       "      <td>7</td>\n",
       "      <td>2</td>\n",
       "      <td>0</td>\n",
       "      <td>5</td>\n",
       "      <td>50264</td>\n",
       "      <td>0</td>\n",
       "      <td>2</td>\n",
       "      <td>11</td>\n",
       "      <td>0</td>\n",
       "      <td>0</td>\n",
       "      <td>130</td>\n",
       "    </tr>\n",
       "    <tr>\n",
       "      <th>6</th>\n",
       "      <td>0</td>\n",
       "      <td>2</td>\n",
       "      <td>1</td>\n",
       "      <td>5</td>\n",
       "      <td>50669</td>\n",
       "      <td>0</td>\n",
       "      <td>2</td>\n",
       "      <td>11</td>\n",
       "      <td>1</td>\n",
       "      <td>0</td>\n",
       "      <td>1065</td>\n",
       "    </tr>\n",
       "    <tr>\n",
       "      <th>7</th>\n",
       "      <td>0</td>\n",
       "      <td>2</td>\n",
       "      <td>1</td>\n",
       "      <td>5</td>\n",
       "      <td>51059</td>\n",
       "      <td>0</td>\n",
       "      <td>2</td>\n",
       "      <td>11</td>\n",
       "      <td>0</td>\n",
       "      <td>0</td>\n",
       "      <td>1365</td>\n",
       "    </tr>\n",
       "    <tr>\n",
       "      <th>8</th>\n",
       "      <td>7</td>\n",
       "      <td>2</td>\n",
       "      <td>1</td>\n",
       "      <td>5</td>\n",
       "      <td>51731</td>\n",
       "      <td>0</td>\n",
       "      <td>2</td>\n",
       "      <td>11</td>\n",
       "      <td>1</td>\n",
       "      <td>0</td>\n",
       "      <td>1075</td>\n",
       "    </tr>\n",
       "    <tr>\n",
       "      <th>9</th>\n",
       "      <td>7</td>\n",
       "      <td>2</td>\n",
       "      <td>0</td>\n",
       "      <td>5</td>\n",
       "      <td>53288</td>\n",
       "      <td>0</td>\n",
       "      <td>2</td>\n",
       "      <td>11</td>\n",
       "      <td>0</td>\n",
       "      <td>0</td>\n",
       "      <td>135</td>\n",
       "    </tr>\n",
       "  </tbody>\n",
       "</table>\n",
       "</div>"
      ],
      "text/plain": [
       "   airline  from  stop  to  price  class  month  day  arrival  departure  \\\n",
       "0        0     2     0   5  25612      0      2   11        0          0   \n",
       "1        0     2     0   5  25612      0      2   11        0          0   \n",
       "2        0     2     1   5  42220      0      2   11        0          0   \n",
       "3        0     2     1   5  44450      0      2   11        0          0   \n",
       "4        0     2     1   5  46690      0      2   11        0          0   \n",
       "5        7     2     0   5  50264      0      2   11        0          0   \n",
       "6        0     2     1   5  50669      0      2   11        1          0   \n",
       "7        0     2     1   5  51059      0      2   11        0          0   \n",
       "8        7     2     1   5  51731      0      2   11        1          0   \n",
       "9        7     2     0   5  53288      0      2   11        0          0   \n",
       "\n",
       "   duration  \n",
       "0       120  \n",
       "1       135  \n",
       "2      1485  \n",
       "3      1590  \n",
       "4       400  \n",
       "5       130  \n",
       "6      1065  \n",
       "7      1365  \n",
       "8      1075  \n",
       "9       135  "
      ]
     },
     "execution_count": 57,
     "metadata": {},
     "output_type": "execute_result"
    }
   ],
   "source": [
    "df.head(10)"
   ]
  },
  {
   "cell_type": "markdown",
   "id": "797ed25a",
   "metadata": {},
   "source": [
    "### lets visualize the correlations"
   ]
  },
  {
   "cell_type": "code",
   "execution_count": 58,
   "id": "aa68de25",
   "metadata": {},
   "outputs": [
    {
     "name": "stdout",
     "output_type": "stream",
     "text": [
      "Requirement already satisfied: seaborn in c:\\users\\mplan\\anaconda3\\lib\\site-packages (0.13.0)Note: you may need to restart the kernel to use updated packages.\n",
      "\n",
      "Requirement already satisfied: numpy!=1.24.0,>=1.20 in c:\\users\\mplan\\anaconda3\\lib\\site-packages (from seaborn) (1.24.3)\n",
      "Requirement already satisfied: pandas>=1.2 in c:\\users\\mplan\\anaconda3\\lib\\site-packages (from seaborn) (2.1.1)\n",
      "Requirement already satisfied: matplotlib!=3.6.1,>=3.3 in c:\\users\\mplan\\anaconda3\\lib\\site-packages (from seaborn) (3.8.0)\n",
      "Requirement already satisfied: contourpy>=1.0.1 in c:\\users\\mplan\\anaconda3\\lib\\site-packages (from matplotlib!=3.6.1,>=3.3->seaborn) (1.0.5)\n",
      "Requirement already satisfied: cycler>=0.10 in c:\\users\\mplan\\anaconda3\\lib\\site-packages (from matplotlib!=3.6.1,>=3.3->seaborn) (0.11.0)\n",
      "Requirement already satisfied: fonttools>=4.22.0 in c:\\users\\mplan\\anaconda3\\lib\\site-packages (from matplotlib!=3.6.1,>=3.3->seaborn) (4.25.0)\n",
      "Requirement already satisfied: kiwisolver>=1.0.1 in c:\\users\\mplan\\anaconda3\\lib\\site-packages (from matplotlib!=3.6.1,>=3.3->seaborn) (1.4.4)\n",
      "Requirement already satisfied: packaging>=20.0 in c:\\users\\mplan\\anaconda3\\lib\\site-packages (from matplotlib!=3.6.1,>=3.3->seaborn) (23.1)\n",
      "Requirement already satisfied: pillow>=6.2.0 in c:\\users\\mplan\\anaconda3\\lib\\site-packages (from matplotlib!=3.6.1,>=3.3->seaborn) (10.0.1)\n",
      "Requirement already satisfied: pyparsing>=2.3.1 in c:\\users\\mplan\\anaconda3\\lib\\site-packages (from matplotlib!=3.6.1,>=3.3->seaborn) (3.0.9)\n",
      "Requirement already satisfied: python-dateutil>=2.7 in c:\\users\\mplan\\anaconda3\\lib\\site-packages (from matplotlib!=3.6.1,>=3.3->seaborn) (2.8.2)\n",
      "Requirement already satisfied: pytz>=2020.1 in c:\\users\\mplan\\anaconda3\\lib\\site-packages (from pandas>=1.2->seaborn) (2023.3.post1)\n",
      "Requirement already satisfied: tzdata>=2022.1 in c:\\users\\mplan\\anaconda3\\lib\\site-packages (from pandas>=1.2->seaborn) (2023.3)\n",
      "Requirement already satisfied: six>=1.5 in c:\\users\\mplan\\anaconda3\\lib\\site-packages (from python-dateutil>=2.7->matplotlib!=3.6.1,>=3.3->seaborn) (1.16.0)\n"
     ]
    }
   ],
   "source": [
    "pip install seaborn --upgrade"
   ]
  },
  {
   "cell_type": "code",
   "execution_count": 59,
   "id": "8f4bf49e",
   "metadata": {},
   "outputs": [
    {
     "data": {
      "text/plain": [
       "<Axes: >"
      ]
     },
     "execution_count": 59,
     "metadata": {},
     "output_type": "execute_result"
    },
    {
     "data": {
      "image/png": "[encoded data removed]",
      "text/plain": [
       "<Figure size 1000x600 with 2 Axes>"
      ]
     },
     "metadata": {},
     "output_type": "display_data"
    }
   ],
   "source": [
    "plt.figure(figsize=(10,6))\n",
    "sns.heatmap(df.corr(),cmap=\"YlGnBu\",annot=True)"
   ]
  },
  {
   "cell_type": "markdown",
   "id": "0b140ed1",
   "metadata": {},
   "source": [
    "###  our data have a significant amount of correlation among them "
   ]
  },
  {
   "cell_type": "markdown",
   "id": "bdcf32b5",
   "metadata": {},
   "source": [
    "## we will see in details when its time to train our model"
   ]
  },
  {
   "cell_type": "code",
   "execution_count": null,
   "id": "71df745c",
   "metadata": {},
   "outputs": [],
   "source": []
  },
  {
   "cell_type": "code",
   "execution_count": null,
   "id": "25c0e081",
   "metadata": {},
   "outputs": [],
   "source": []
  },
  {
   "cell_type": "markdown",
   "id": "245f2925",
   "metadata": {},
   "source": [
    "# questions to awsner\n",
    "\n",
    "### we have some questions to awnser  : \n",
    "\n",
    "\n",
    "### a)Does price vary with Airlines?\n",
    "### b) Does ticket price change based on the departure time and arrival time?\n",
    "### c) How the price changes with change in Source and Destination?\n",
    "### d) How does the ticket price vary between Economy and Business class?\n",
    "### e) To where moslty the bussines class flights go ?\n",
    "### f) Which ailine have the most flights from mumbai ? \n",
    "### "
   ]
  },
  {
   "cell_type": "code",
   "execution_count": null,
   "id": "a558adac",
   "metadata": {},
   "outputs": [],
   "source": []
  },
  {
   "cell_type": "code",
   "execution_count": null,
   "id": "a048f92e",
   "metadata": {},
   "outputs": [],
   "source": []
  },
  {
   "cell_type": "markdown",
   "id": "0eb7022a",
   "metadata": {},
   "source": [
    "## a)Does price vary with Airlines?\n",
    "### to awsner this we have to see the correlation and the p value between price and airlines :\n",
    " "
   ]
  },
  {
   "cell_type": "code",
   "execution_count": 60,
   "id": "4602f9e9",
   "metadata": {},
   "outputs": [
    {
     "name": "stdout",
     "output_type": "stream",
     "text": [
      " we have a correlation of 0.24370288386431885  and a p value equal to 0.0\n"
     ]
    }
   ],
   "source": [
    "\n",
    "from scipy.stats import pearsonr\n",
    "\n",
    "airlines = df.airline.values\n",
    "prices = df.price.values\n",
    "\n",
    "cor,p = pearsonr(airlines,prices)\n",
    "print(f\" we have a correlation of {cor}  and a p value equal to {p}\")"
   ]
  },
  {
   "cell_type": "markdown",
   "id": "e15e5666",
   "metadata": {},
   "source": [
    "#### because p value is almost zero that means that its almost imposible to see something like that random and because we have enough data we consider the correlation of 0.25 to be legit"
   ]
  },
  {
   "cell_type": "code",
   "execution_count": null,
   "id": "760f395f",
   "metadata": {},
   "outputs": [],
   "source": []
  },
  {
   "cell_type": "code",
   "execution_count": null,
   "id": "1e8908f3",
   "metadata": {},
   "outputs": [],
   "source": []
  },
  {
   "cell_type": "markdown",
   "id": "614ada0d",
   "metadata": {},
   "source": [
    "## b) Does ticket price change based on the departure time and arrival time?\n",
    "### we will go with the same aproach as in the question a "
   ]
  },
  {
   "cell_type": "code",
   "execution_count": 61,
   "id": "780c5fd8",
   "metadata": {},
   "outputs": [
    {
     "data": {
      "text/html": [
       "<div>\n",
       "<style scoped>\n",
       "    .dataframe tbody tr th:only-of-type {\n",
       "        vertical-align: middle;\n",
       "    }\n",
       "\n",
       "    .dataframe tbody tr th {\n",
       "        vertical-align: top;\n",
       "    }\n",
       "\n",
       "    .dataframe thead th {\n",
       "        text-align: right;\n",
       "    }\n",
       "</style>\n",
       "<table border=\"1\" class=\"dataframe\">\n",
       "  <thead>\n",
       "    <tr style=\"text-align: right;\">\n",
       "      <th></th>\n",
       "      <th>airline</th>\n",
       "      <th>from</th>\n",
       "      <th>stop</th>\n",
       "      <th>to</th>\n",
       "      <th>price</th>\n",
       "      <th>class</th>\n",
       "      <th>month</th>\n",
       "      <th>day</th>\n",
       "      <th>arrival</th>\n",
       "      <th>departure</th>\n",
       "      <th>duration</th>\n",
       "    </tr>\n",
       "  </thead>\n",
       "  <tbody>\n",
       "    <tr>\n",
       "      <th>0</th>\n",
       "      <td>0</td>\n",
       "      <td>2</td>\n",
       "      <td>0</td>\n",
       "      <td>5</td>\n",
       "      <td>25612</td>\n",
       "      <td>0</td>\n",
       "      <td>2</td>\n",
       "      <td>11</td>\n",
       "      <td>0</td>\n",
       "      <td>0</td>\n",
       "      <td>120</td>\n",
       "    </tr>\n",
       "  </tbody>\n",
       "</table>\n",
       "</div>"
      ],
      "text/plain": [
       "   airline  from  stop  to  price  class  month  day  arrival  departure  \\\n",
       "0        0     2     0   5  25612      0      2   11        0          0   \n",
       "\n",
       "   duration  \n",
       "0       120  "
      ]
     },
     "execution_count": 61,
     "metadata": {},
     "output_type": "execute_result"
    }
   ],
   "source": [
    "df.head(1)"
   ]
  },
  {
   "cell_type": "code",
   "execution_count": 62,
   "id": "b4fcfcfa",
   "metadata": {},
   "outputs": [
    {
     "name": "stdout",
     "output_type": "stream",
     "text": [
      "between arriving time and price  we have a correlation of -0.05244067367919127  and a p value equal to 0.000000000\n",
      "between departure time and price  we have a correlation of -0.040887452639962275  and a p value equal to 0.000000000\n"
     ]
    }
   ],
   "source": [
    "arrive = df.arrival.values\n",
    "dep = df.departure.values\n",
    "price = df.price.values\n",
    "\n",
    "cor1,p1 = pearsonr(arrive,price)\n",
    "p1=f'{p1:.9f}'\n",
    "\n",
    "print(f\"between arriving time and price  we have a correlation of {cor1}  and a p value equal to {p1}\")\n",
    "\n",
    "\n",
    "cor2,p2 = pearsonr(dep,price)\n",
    "p2=f'{p2:.9f}'\n",
    "\n",
    "                   \n",
    "print(f\"between departure time and price  we have a correlation of {cor2}  and a p value equal to {p2}\")"
   ]
  },
  {
   "cell_type": "markdown",
   "id": "bc3801e6",
   "metadata": {},
   "source": [
    "### so, its not a very strong correlation but there is some correlation , bigger between arriving time and price than departure time and price , and p value almost zero "
   ]
  },
  {
   "cell_type": "code",
   "execution_count": null,
   "id": "6b18b4a4",
   "metadata": {},
   "outputs": [],
   "source": []
  },
  {
   "cell_type": "code",
   "execution_count": null,
   "id": "66d3d1b8",
   "metadata": {},
   "outputs": [],
   "source": []
  },
  {
   "cell_type": "code",
   "execution_count": null,
   "id": "272ebe6a",
   "metadata": {},
   "outputs": [],
   "source": []
  },
  {
   "cell_type": "markdown",
   "id": "c4dc4d9a",
   "metadata": {},
   "source": [
    "## c) How the price changes with change in Source and Destination?\n",
    "### same aproach here also  : "
   ]
  },
  {
   "cell_type": "code",
   "execution_count": 63,
   "id": "9bcf799c",
   "metadata": {},
   "outputs": [
    {
     "name": "stdout",
     "output_type": "stream",
     "text": [
      "between departure place  and price  we have a correlation of 0.004673721849396739  and a p value equal to 0.010436805\n",
      "between destination place and price  we have a correlation of 0.004896412895695218  and a p value equal to 0.007295667\n"
     ]
    }
   ],
   "source": [
    "fromm = df['from'].values\n",
    "to = df.to.values\n",
    "price = df.price.values\n",
    "\n",
    "cor1,p1 = pearsonr(fromm,price)\n",
    "p1=f'{p1:.9f}'\n",
    "\n",
    "print(f\"between departure place  and price  we have a correlation of {cor1}  and a p value equal to {p1}\")\n",
    "\n",
    "\n",
    "cor2,p2 = pearsonr(to,price)\n",
    "p2=f'{p2:.9f}'\n",
    "\n",
    "                   \n",
    "print(f\"between destination place and price  we have a correlation of {cor2}  and a p value equal to {p2}\")"
   ]
  },
  {
   "cell_type": "markdown",
   "id": "0d0b0dce",
   "metadata": {},
   "source": [
    "### there is a very small correlation , not singificly important , so we could say that the price change little to none in correlation with destination or source"
   ]
  },
  {
   "cell_type": "code",
   "execution_count": null,
   "id": "32da7f5e",
   "metadata": {},
   "outputs": [],
   "source": []
  },
  {
   "cell_type": "code",
   "execution_count": null,
   "id": "4031c11e",
   "metadata": {},
   "outputs": [],
   "source": []
  },
  {
   "cell_type": "markdown",
   "id": "6898dd2f",
   "metadata": {},
   "source": [
    "## d) How does the ticket price vary between Economy and Business class?"
   ]
  },
  {
   "cell_type": "code",
   "execution_count": 64,
   "id": "ab648396",
   "metadata": {},
   "outputs": [
    {
     "name": "stdout",
     "output_type": "stream",
     "text": [
      "between price and flights class  we have a correlation of -0.9378808288165039  and a p value equal to 0.000000000\n"
     ]
    }
   ],
   "source": [
    "clas = df['class'].values\n",
    "price = df.price.values\n",
    "\n",
    "cor1,p1 = pearsonr(clas,price)\n",
    "p1=f'{p1:.9f}'\n",
    "\n",
    "print(f\"between price and flights class  we have a correlation of {cor1}  and a p value equal to {p1}\")"
   ]
  },
  {
   "cell_type": "markdown",
   "id": "ca4ca3d1",
   "metadata": {},
   "source": [
    "### that means we have a very strong correlation between class and price "
   ]
  },
  {
   "cell_type": "code",
   "execution_count": null,
   "id": "2a8ac257",
   "metadata": {},
   "outputs": [],
   "source": []
  },
  {
   "cell_type": "code",
   "execution_count": null,
   "id": "c9e3e319",
   "metadata": {},
   "outputs": [],
   "source": []
  },
  {
   "cell_type": "markdown",
   "id": "1edfdf77",
   "metadata": {},
   "source": [
    "### e) To where moslty the bussines class flights go ?"
   ]
  },
  {
   "cell_type": "code",
   "execution_count": 65,
   "id": "007f66b5",
   "metadata": {},
   "outputs": [
    {
     "data": {
      "text/html": [
       "<div>\n",
       "<style scoped>\n",
       "    .dataframe tbody tr th:only-of-type {\n",
       "        vertical-align: middle;\n",
       "    }\n",
       "\n",
       "    .dataframe tbody tr th {\n",
       "        vertical-align: top;\n",
       "    }\n",
       "\n",
       "    .dataframe thead th {\n",
       "        text-align: right;\n",
       "    }\n",
       "</style>\n",
       "<table border=\"1\" class=\"dataframe\">\n",
       "  <thead>\n",
       "    <tr style=\"text-align: right;\">\n",
       "      <th></th>\n",
       "      <th>airline</th>\n",
       "      <th>from</th>\n",
       "      <th>stop</th>\n",
       "      <th>to</th>\n",
       "      <th>price</th>\n",
       "      <th>class</th>\n",
       "      <th>month</th>\n",
       "      <th>day</th>\n",
       "      <th>arrival</th>\n",
       "      <th>departure</th>\n",
       "      <th>duration</th>\n",
       "    </tr>\n",
       "  </thead>\n",
       "  <tbody>\n",
       "    <tr>\n",
       "      <th>0</th>\n",
       "      <td>Air India</td>\n",
       "      <td>Delhi</td>\n",
       "      <td>0</td>\n",
       "      <td>Mumbai</td>\n",
       "      <td>25612</td>\n",
       "      <td>bussines</td>\n",
       "      <td>2</td>\n",
       "      <td>11</td>\n",
       "      <td>afternoom</td>\n",
       "      <td>afternoom</td>\n",
       "      <td>120</td>\n",
       "    </tr>\n",
       "  </tbody>\n",
       "</table>\n",
       "</div>"
      ],
      "text/plain": [
       "     airline   from  stop      to  price     class  month  day    arrival  \\\n",
       "0  Air India  Delhi     0  Mumbai  25612  bussines      2   11  afternoom   \n",
       "\n",
       "   departure  duration  \n",
       "0  afternoom       120  "
      ]
     },
     "execution_count": 65,
     "metadata": {},
     "output_type": "execute_result"
    }
   ],
   "source": [
    "flights.head(1)"
   ]
  },
  {
   "cell_type": "code",
   "execution_count": 66,
   "id": "2383b362",
   "metadata": {},
   "outputs": [],
   "source": [
    "f = pd.crosstab(flights['class'],flights['to'])"
   ]
  },
  {
   "cell_type": "code",
   "execution_count": 67,
   "id": "ef201f32",
   "metadata": {
    "scrolled": true
   },
   "outputs": [],
   "source": [
    "f = f.reset_index()\n",
    "f = f.loc[f['class']=='bussines']\n",
    "f.drop(columns=['class'],inplace=True)"
   ]
  },
  {
   "cell_type": "code",
   "execution_count": 68,
   "id": "16eb14f1",
   "metadata": {},
   "outputs": [
    {
     "data": {
      "text/html": [
       "<div>\n",
       "<style scoped>\n",
       "    .dataframe tbody tr th:only-of-type {\n",
       "        vertical-align: middle;\n",
       "    }\n",
       "\n",
       "    .dataframe tbody tr th {\n",
       "        vertical-align: top;\n",
       "    }\n",
       "\n",
       "    .dataframe thead th {\n",
       "        text-align: right;\n",
       "    }\n",
       "</style>\n",
       "<table border=\"1\" class=\"dataframe\">\n",
       "  <thead>\n",
       "    <tr style=\"text-align: right;\">\n",
       "      <th>to</th>\n",
       "      <th>Bangalore</th>\n",
       "      <th>Chennai</th>\n",
       "      <th>Delhi</th>\n",
       "      <th>Hyderabad</th>\n",
       "      <th>Kolkata</th>\n",
       "      <th>Mumbai</th>\n",
       "    </tr>\n",
       "  </thead>\n",
       "  <tbody>\n",
       "    <tr>\n",
       "      <th>0</th>\n",
       "      <td>16198</td>\n",
       "      <td>13158</td>\n",
       "      <td>16706</td>\n",
       "      <td>13675</td>\n",
       "      <td>14758</td>\n",
       "      <td>18991</td>\n",
       "    </tr>\n",
       "  </tbody>\n",
       "</table>\n",
       "</div>"
      ],
      "text/plain": [
       "to  Bangalore  Chennai  Delhi  Hyderabad  Kolkata  Mumbai\n",
       "0       16198    13158  16706      13675    14758   18991"
      ]
     },
     "execution_count": 68,
     "metadata": {},
     "output_type": "execute_result"
    }
   ],
   "source": [
    "f"
   ]
  },
  {
   "cell_type": "code",
   "execution_count": 69,
   "id": "5733d78d",
   "metadata": {},
   "outputs": [],
   "source": [
    "cols = f.columns\n",
    "vals = f.values"
   ]
  },
  {
   "cell_type": "code",
   "execution_count": 70,
   "id": "0da4279a",
   "metadata": {},
   "outputs": [],
   "source": [
    "vals = vals[0]\n"
   ]
  },
  {
   "cell_type": "code",
   "execution_count": 71,
   "id": "e5ffa3af",
   "metadata": {},
   "outputs": [
    {
     "name": "stdout",
     "output_type": "stream",
     "text": [
      "the city where most of the bussines class flights goes to is Mumbai with 18991 numer of flights\n"
     ]
    }
   ],
   "source": [
    "mx = 0\n",
    "target = ''\n",
    "for i in range(len(cols)):\n",
    "    if  vals[i] > mx:\n",
    "        mx = vals[i]\n",
    "        target = cols[i]\n",
    "\n",
    "print(f'the city where most of the bussines class flights goes to is {target} with {mx} numer of flights')"
   ]
  },
  {
   "cell_type": "code",
   "execution_count": null,
   "id": "adf11bee",
   "metadata": {},
   "outputs": [],
   "source": []
  },
  {
   "cell_type": "code",
   "execution_count": null,
   "id": "d955eac8",
   "metadata": {},
   "outputs": [],
   "source": []
  },
  {
   "cell_type": "code",
   "execution_count": null,
   "id": "a7f5319f",
   "metadata": {},
   "outputs": [],
   "source": []
  },
  {
   "cell_type": "markdown",
   "id": "797a532e",
   "metadata": {},
   "source": [
    "### e) Which ailine have the most flights from mumbai ?"
   ]
  },
  {
   "cell_type": "code",
   "execution_count": 72,
   "id": "fc2482cb",
   "metadata": {},
   "outputs": [],
   "source": [
    "g = pd.crosstab(flights['airline'],flights['from'])"
   ]
  },
  {
   "cell_type": "code",
   "execution_count": 73,
   "id": "9052530b",
   "metadata": {},
   "outputs": [],
   "source": [
    "g = pd.DataFrame(g).reset_index()\n",
    "g = g[['airline','Mumbai']]\n",
    "g.sort_values('Mumbai',ascending=False,inplace=True)\n"
   ]
  },
  {
   "cell_type": "code",
   "execution_count": 74,
   "id": "f60b9167",
   "metadata": {},
   "outputs": [
    {
     "data": {
      "text/html": [
       "<div>\n",
       "<style scoped>\n",
       "    .dataframe tbody tr th:only-of-type {\n",
       "        vertical-align: middle;\n",
       "    }\n",
       "\n",
       "    .dataframe tbody tr th {\n",
       "        vertical-align: top;\n",
       "    }\n",
       "\n",
       "    .dataframe thead th {\n",
       "        text-align: right;\n",
       "    }\n",
       "</style>\n",
       "<table border=\"1\" class=\"dataframe\">\n",
       "  <thead>\n",
       "    <tr style=\"text-align: right;\">\n",
       "      <th>from</th>\n",
       "      <th>airline</th>\n",
       "      <th>Mumbai</th>\n",
       "    </tr>\n",
       "  </thead>\n",
       "  <tbody>\n",
       "    <tr>\n",
       "      <th>7</th>\n",
       "      <td>Vistara</td>\n",
       "      <td>25535</td>\n",
       "    </tr>\n",
       "    <tr>\n",
       "      <th>0</th>\n",
       "      <td>Air India</td>\n",
       "      <td>18377</td>\n",
       "    </tr>\n",
       "    <tr>\n",
       "      <th>3</th>\n",
       "      <td>Indigo</td>\n",
       "      <td>7506</td>\n",
       "    </tr>\n",
       "    <tr>\n",
       "      <th>2</th>\n",
       "      <td>GO FIRST</td>\n",
       "      <td>5567</td>\n",
       "    </tr>\n",
       "    <tr>\n",
       "      <th>1</th>\n",
       "      <td>AirAsia</td>\n",
       "      <td>2176</td>\n",
       "    </tr>\n",
       "    <tr>\n",
       "      <th>4</th>\n",
       "      <td>SpiceJet</td>\n",
       "      <td>1734</td>\n",
       "    </tr>\n",
       "    <tr>\n",
       "      <th>6</th>\n",
       "      <td>Trujet</td>\n",
       "      <td>7</td>\n",
       "    </tr>\n",
       "    <tr>\n",
       "      <th>5</th>\n",
       "      <td>StarAir</td>\n",
       "      <td>0</td>\n",
       "    </tr>\n",
       "  </tbody>\n",
       "</table>\n",
       "</div>"
      ],
      "text/plain": [
       "from    airline  Mumbai\n",
       "7       Vistara   25535\n",
       "0     Air India   18377\n",
       "3        Indigo    7506\n",
       "2      GO FIRST    5567\n",
       "1       AirAsia    2176\n",
       "4      SpiceJet    1734\n",
       "6        Trujet       7\n",
       "5       StarAir       0"
      ]
     },
     "execution_count": 74,
     "metadata": {},
     "output_type": "execute_result"
    }
   ],
   "source": [
    "g"
   ]
  },
  {
   "cell_type": "code",
   "execution_count": 75,
   "id": "de0f3268",
   "metadata": {},
   "outputs": [
    {
     "name": "stdout",
     "output_type": "stream",
     "text": [
      " the airline with the most flights from mumbai is Vistara with 25535 total flights\n"
     ]
    }
   ],
   "source": [
    "print(f\" the airline with the most flights from mumbai is {g.iloc[0].values[0]} with {g.iloc[0].values[1]} total flights\")"
   ]
  },
  {
   "cell_type": "code",
   "execution_count": 76,
   "id": "60b58d22",
   "metadata": {},
   "outputs": [
    {
     "data": {
      "text/plain": [
       "<BarContainer object of 8 artists>"
      ]
     },
     "execution_count": 76,
     "metadata": {},
     "output_type": "execute_result"
    },
    {
     "data": {
      "image/png": "[encoded data removed]",
      "text/plain": [
       "<Figure size 640x480 with 1 Axes>"
      ]
     },
     "metadata": {},
     "output_type": "display_data"
    }
   ],
   "source": [
    "plt.bar(g.airline,g['Mumbai'])"
   ]
  },
  {
   "cell_type": "code",
   "execution_count": null,
   "id": "ad1418a6",
   "metadata": {},
   "outputs": [],
   "source": []
  },
  {
   "cell_type": "code",
   "execution_count": null,
   "id": "d12a2d12",
   "metadata": {},
   "outputs": [],
   "source": []
  },
  {
   "cell_type": "code",
   "execution_count": null,
   "id": "3c46173f",
   "metadata": {},
   "outputs": [],
   "source": []
  },
  {
   "cell_type": "code",
   "execution_count": null,
   "id": "aa8d06ca",
   "metadata": {},
   "outputs": [],
   "source": []
  },
  {
   "cell_type": "markdown",
   "id": "9c3c4acf",
   "metadata": {},
   "source": [
    "# MODELING "
   ]
  },
  {
   "cell_type": "markdown",
   "id": "a3f3175e",
   "metadata": {},
   "source": [
    "## now we have to make a model to predict the prices !"
   ]
  },
  {
   "cell_type": "markdown",
   "id": "b6ccd9ed",
   "metadata": {},
   "source": [
    "## we will use the non categorical dataframe : df "
   ]
  },
  {
   "cell_type": "code",
   "execution_count": 77,
   "id": "9ebd0ca5",
   "metadata": {},
   "outputs": [
    {
     "data": {
      "text/html": [
       "<div>\n",
       "<style scoped>\n",
       "    .dataframe tbody tr th:only-of-type {\n",
       "        vertical-align: middle;\n",
       "    }\n",
       "\n",
       "    .dataframe tbody tr th {\n",
       "        vertical-align: top;\n",
       "    }\n",
       "\n",
       "    .dataframe thead th {\n",
       "        text-align: right;\n",
       "    }\n",
       "</style>\n",
       "<table border=\"1\" class=\"dataframe\">\n",
       "  <thead>\n",
       "    <tr style=\"text-align: right;\">\n",
       "      <th></th>\n",
       "      <th>airline</th>\n",
       "      <th>from</th>\n",
       "      <th>stop</th>\n",
       "      <th>to</th>\n",
       "      <th>price</th>\n",
       "      <th>class</th>\n",
       "      <th>month</th>\n",
       "      <th>day</th>\n",
       "      <th>arrival</th>\n",
       "      <th>departure</th>\n",
       "      <th>duration</th>\n",
       "    </tr>\n",
       "  </thead>\n",
       "  <tbody>\n",
       "    <tr>\n",
       "      <th>0</th>\n",
       "      <td>0</td>\n",
       "      <td>2</td>\n",
       "      <td>0</td>\n",
       "      <td>5</td>\n",
       "      <td>25612</td>\n",
       "      <td>0</td>\n",
       "      <td>2</td>\n",
       "      <td>11</td>\n",
       "      <td>0</td>\n",
       "      <td>0</td>\n",
       "      <td>120</td>\n",
       "    </tr>\n",
       "    <tr>\n",
       "      <th>1</th>\n",
       "      <td>0</td>\n",
       "      <td>2</td>\n",
       "      <td>0</td>\n",
       "      <td>5</td>\n",
       "      <td>25612</td>\n",
       "      <td>0</td>\n",
       "      <td>2</td>\n",
       "      <td>11</td>\n",
       "      <td>0</td>\n",
       "      <td>0</td>\n",
       "      <td>135</td>\n",
       "    </tr>\n",
       "    <tr>\n",
       "      <th>2</th>\n",
       "      <td>0</td>\n",
       "      <td>2</td>\n",
       "      <td>1</td>\n",
       "      <td>5</td>\n",
       "      <td>42220</td>\n",
       "      <td>0</td>\n",
       "      <td>2</td>\n",
       "      <td>11</td>\n",
       "      <td>0</td>\n",
       "      <td>0</td>\n",
       "      <td>1485</td>\n",
       "    </tr>\n",
       "    <tr>\n",
       "      <th>3</th>\n",
       "      <td>0</td>\n",
       "      <td>2</td>\n",
       "      <td>1</td>\n",
       "      <td>5</td>\n",
       "      <td>44450</td>\n",
       "      <td>0</td>\n",
       "      <td>2</td>\n",
       "      <td>11</td>\n",
       "      <td>0</td>\n",
       "      <td>0</td>\n",
       "      <td>1590</td>\n",
       "    </tr>\n",
       "    <tr>\n",
       "      <th>4</th>\n",
       "      <td>0</td>\n",
       "      <td>2</td>\n",
       "      <td>1</td>\n",
       "      <td>5</td>\n",
       "      <td>46690</td>\n",
       "      <td>0</td>\n",
       "      <td>2</td>\n",
       "      <td>11</td>\n",
       "      <td>0</td>\n",
       "      <td>0</td>\n",
       "      <td>400</td>\n",
       "    </tr>\n",
       "  </tbody>\n",
       "</table>\n",
       "</div>"
      ],
      "text/plain": [
       "   airline  from  stop  to  price  class  month  day  arrival  departure  \\\n",
       "0        0     2     0   5  25612      0      2   11        0          0   \n",
       "1        0     2     0   5  25612      0      2   11        0          0   \n",
       "2        0     2     1   5  42220      0      2   11        0          0   \n",
       "3        0     2     1   5  44450      0      2   11        0          0   \n",
       "4        0     2     1   5  46690      0      2   11        0          0   \n",
       "\n",
       "   duration  \n",
       "0       120  \n",
       "1       135  \n",
       "2      1485  \n",
       "3      1590  \n",
       "4       400  "
      ]
     },
     "execution_count": 77,
     "metadata": {},
     "output_type": "execute_result"
    }
   ],
   "source": [
    "df.head(5)"
   ]
  },
  {
   "cell_type": "markdown",
   "id": "50f28a13",
   "metadata": {},
   "source": [
    "### before everithing lets check for multicolinearity in our data and the correlations with the depended variable "
   ]
  },
  {
   "cell_type": "markdown",
   "id": "03005293",
   "metadata": {},
   "source": [
    "## checking for multicolinearity between the independed variables , considering a set multicoinear  when the correlation is bigget than 0.7"
   ]
  },
  {
   "cell_type": "code",
   "execution_count": 78,
   "id": "92ed8eed",
   "metadata": {},
   "outputs": [],
   "source": [
    "cors = df.drop(columns=['class']).corr()"
   ]
  },
  {
   "cell_type": "code",
   "execution_count": 79,
   "id": "f7182656",
   "metadata": {},
   "outputs": [],
   "source": [
    "cols = cors.columns\n",
    "cc = []\n",
    "for i in cols:\n",
    "    x = cors.loc[abs(cors[i]) > 0.7,i]\n",
    "    cc.append((i , x.values[0] ,x.index[0]))"
   ]
  },
  {
   "cell_type": "code",
   "execution_count": 80,
   "id": "ebbb0741",
   "metadata": {},
   "outputs": [
    {
     "name": "stdout",
     "output_type": "stream",
     "text": [
      "airline  has  1.0   correlation with   airline\n",
      "from  has  1.0   correlation with   from\n",
      "stop  has  1.0   correlation with   stop\n",
      "to  has  1.0   correlation with   to\n",
      "price  has  1.0   correlation with   price\n",
      "month  has  1.0   correlation with   month\n",
      "day  has  1.0   correlation with   day\n",
      "arrival  has  1.0   correlation with   arrival\n",
      "departure  has  1.0   correlation with   departure\n",
      "duration  has  1.0   correlation with   duration\n"
     ]
    }
   ],
   "source": [
    "for i in cc : \n",
    "    print(f'{i[0]}  has  {i[1]}   correlation with   {i[2]}')\n"
   ]
  },
  {
   "cell_type": "markdown",
   "id": "929e51b6",
   "metadata": {},
   "source": [
    "### they are only correlated  with |correlation| >0.7 only with themselfs which is normal , but beside that no correlation biger than 0.7 so we can continue:"
   ]
  },
  {
   "cell_type": "markdown",
   "id": "fe1952c4",
   "metadata": {},
   "source": [
    "## now we will see the depended variable correlations :"
   ]
  },
  {
   "cell_type": "code",
   "execution_count": 81,
   "id": "12024426",
   "metadata": {},
   "outputs": [],
   "source": [
    "depended = []\n",
    "for i in cols:\n",
    "    x = df['price'].corr(df[i])\n",
    "    depended.append((i , x))"
   ]
  },
  {
   "cell_type": "code",
   "execution_count": 82,
   "id": "e5007082",
   "metadata": {},
   "outputs": [
    {
     "name": "stdout",
     "output_type": "stream",
     "text": [
      "('airline', 0.2437028838643188)\n",
      "('from', 0.0046737218493970055)\n",
      "('stop', 0.11979941207814344)\n",
      "('to', 0.0048964128956951875)\n",
      "('price', 1.0)\n",
      "('month', -0.0923076036391361)\n",
      "('day', -0.0032570012926162644)\n",
      "('arrival', -0.05244067367919116)\n",
      "('departure', -0.04088745263996209)\n",
      "('duration', 0.2044761405422031)\n"
     ]
    }
   ],
   "source": [
    "for i in depended : \n",
    "    print(i)"
   ]
  },
  {
   "cell_type": "markdown",
   "id": "7729c121",
   "metadata": {},
   "source": [
    "### we could not use the features with the too small corelation but we will train the models and if we ovverfit we will remove them "
   ]
  },
  {
   "cell_type": "code",
   "execution_count": null,
   "id": "39ef2126",
   "metadata": {},
   "outputs": [],
   "source": []
  },
  {
   "cell_type": "markdown",
   "id": "804436db",
   "metadata": {},
   "source": [
    "## now we can procced to the modeling "
   ]
  },
  {
   "cell_type": "code",
   "execution_count": null,
   "id": "25ca0dc6",
   "metadata": {},
   "outputs": [],
   "source": []
  },
  {
   "cell_type": "code",
   "execution_count": null,
   "id": "fa19fd5b",
   "metadata": {},
   "outputs": [],
   "source": []
  },
  {
   "cell_type": "code",
   "execution_count": 83,
   "id": "9ba51c78",
   "metadata": {},
   "outputs": [],
   "source": [
    "# split in x and y \n",
    "x = df.drop(columns=['price']).values"
   ]
  },
  {
   "cell_type": "code",
   "execution_count": 84,
   "id": "ea06f338",
   "metadata": {},
   "outputs": [],
   "source": [
    "y = df['price'].values"
   ]
  },
  {
   "cell_type": "code",
   "execution_count": 85,
   "id": "bb2d2436",
   "metadata": {},
   "outputs": [
    {
     "name": "stdout",
     "output_type": "stream",
     "text": [
      "[[   0    2    0 ...    0    0  120]\n",
      " [   0    2    0 ...    0    0  135]\n",
      " [   0    2    1 ...    0    0 1485]\n",
      " ...\n",
      " [   7    1    1 ...    2    0 1235]\n",
      " [   7    1    1 ...    2    2 1400]\n",
      " [   7    1    1 ...    0    0 1465]]\n"
     ]
    }
   ],
   "source": [
    "print(x)"
   ]
  },
  {
   "cell_type": "code",
   "execution_count": 86,
   "id": "539ffd0e",
   "metadata": {},
   "outputs": [
    {
     "name": "stdout",
     "output_type": "stream",
     "text": [
      "[25612 25612 42220 ...  8640  8640  8640]\n"
     ]
    }
   ],
   "source": [
    "print(y)"
   ]
  },
  {
   "cell_type": "code",
   "execution_count": 87,
   "id": "4c2ee069",
   "metadata": {},
   "outputs": [],
   "source": [
    "# now we have to split it in train and test\n",
    "\n",
    "from sklearn.model_selection import train_test_split as tt\n",
    "x_train,x_test,y_train,y_test = tt(x,y,test_size=0.2)"
   ]
  },
  {
   "cell_type": "code",
   "execution_count": 88,
   "id": "35a082c2",
   "metadata": {},
   "outputs": [
    {
     "name": "stdout",
     "output_type": "stream",
     "text": [
      "(240207, 10) (60052, 10)\n",
      "(240207,) (60052,)\n"
     ]
    }
   ],
   "source": [
    "print(x_train.shape,x_test.shape)\n",
    "print(y_train.shape,y_test.shape)\n"
   ]
  },
  {
   "cell_type": "code",
   "execution_count": 89,
   "id": "0613e699",
   "metadata": {},
   "outputs": [],
   "source": [
    "# scale the data with Standard Scaler because they tend to a normal destribution and they dont have fixed values \n",
    "from sklearn.preprocessing import StandardScaler as ss"
   ]
  },
  {
   "cell_type": "code",
   "execution_count": 90,
   "id": "78ba296b",
   "metadata": {},
   "outputs": [],
   "source": [
    "scaler = ss()\n",
    "x_train = scaler.fit_transform(x_train)\n",
    "x_test = scaler.fit_transform(x_test)"
   ]
  },
  {
   "cell_type": "code",
   "execution_count": 91,
   "id": "f1469f9c",
   "metadata": {},
   "outputs": [
    {
     "data": {
      "text/plain": [
       "array([[-0.24653291,  0.24153845,  0.18964103, ...,  1.49050076,\n",
       "        -0.93759147, -0.34425078],\n",
       "       [ 1.08598131,  1.38317728,  0.18964103, ...,  1.49050076,\n",
       "        -0.93759147,  0.26984025],\n",
       "       [ 1.08598131, -1.47091979,  0.18964103, ..., -0.70218078,\n",
       "         0.86414401,  0.13080077],\n",
       "       ...,\n",
       "       [-1.24591857, -0.32928096,  0.18964103, ..., -0.70218078,\n",
       "         0.86414401,  0.33935999],\n",
       "       [-1.24591857,  1.38317728,  2.70485841, ...,  0.39415999,\n",
       "        -0.93759147,  2.22797956],\n",
       "       [ 1.08598131,  1.38317728,  0.18964103, ...,  0.39415999,\n",
       "        -0.93759147, -0.7034361 ]])"
      ]
     },
     "execution_count": 91,
     "metadata": {},
     "output_type": "execute_result"
    }
   ],
   "source": [
    "x_train"
   ]
  },
  {
   "cell_type": "code",
   "execution_count": 92,
   "id": "db0dafe8",
   "metadata": {},
   "outputs": [
    {
     "data": {
      "text/plain": [
       "array([[ 1.08338409, -0.90166589,  0.193079  , ...,  1.49273624,\n",
       "         0.86089102,  1.51451888],\n",
       "       [-0.24884446,  0.240275  ,  0.193079  , ..., -0.7023222 ,\n",
       "        -0.03916343, -0.50053351],\n",
       "       [-1.24801588,  0.240275  ,  0.193079  , ..., -0.7023222 ,\n",
       "         1.76094546,  0.40276583],\n",
       "       ...,\n",
       "       [-0.5819016 , -0.33069545,  0.193079  , ..., -0.7023222 ,\n",
       "        -0.03916343, -0.74372949],\n",
       "       [-1.24801588,  0.81124544,  0.193079  , ...,  1.49273624,\n",
       "        -0.93921788,  0.7386079 ],\n",
       "       [ 1.08338409,  0.240275  ,  0.193079  , ..., -0.7023222 ,\n",
       "        -0.93921788, -0.29207982]])"
      ]
     },
     "execution_count": 92,
     "metadata": {},
     "output_type": "execute_result"
    }
   ],
   "source": [
    "x_test"
   ]
  },
  {
   "cell_type": "code",
   "execution_count": null,
   "id": "4b5f2e41",
   "metadata": {},
   "outputs": [],
   "source": []
  },
  {
   "cell_type": "code",
   "execution_count": null,
   "id": "7bf0a3ec",
   "metadata": {},
   "outputs": [],
   "source": []
  },
  {
   "cell_type": "markdown",
   "id": "1f330d6c",
   "metadata": {},
   "source": [
    "## now we will train some models and measure their performance"
   ]
  },
  {
   "cell_type": "markdown",
   "id": "4a889870",
   "metadata": {},
   "source": [
    "####  first we will create a function which will meause the performance of each model :"
   ]
  },
  {
   "cell_type": "code",
   "execution_count": 93,
   "id": "057c59d1",
   "metadata": {},
   "outputs": [],
   "source": [
    "from sklearn.metrics import r2_score , mean_absolute_error , mean_squared_error\n",
    "from math import sqrt\n",
    "history = []\n",
    "hist_df = []\n",
    "\n",
    "def metrics(estimator,pred,actual,hist = history,features = x_train.shape[1],hist_df = hist_df):\n",
    "    new = []\n",
    "    n_df = []\n",
    "    \n",
    "    r2 = r2_score(pred,actual)\n",
    "    mae = mean_absolute_error(pred,actual)\n",
    "    rmse = sqrt(mean_squared_error(pred,actual))\n",
    "    adjusted_r2  = 1 - (1-r2) * (len(pred)-1)/(len(pred)-features-1)\n",
    "    new.append(f'{estimator} have {mae} mean absolute error , {rmse} root  mean squared error , {r2} R squared and {adjusted_r2} adjusted R squared')\n",
    "    print(new)\n",
    "    n_df.append((estimator,mae,rmse,r2,adjusted_r2))\n",
    "    history.append(new)\n",
    "    hist_df.append(n_df)\n",
    "\n",
    "    \n",
    "    \n",
    "    "
   ]
  },
  {
   "cell_type": "code",
   "execution_count": 94,
   "id": "4c9a3ccb",
   "metadata": {},
   "outputs": [],
   "source": [
    "# make a griv earch cv function\n",
    "from sklearn.model_selection import GridSearchCV\n",
    "\n",
    "def grid(parameters , estimator, x = x_train,y = y_train):\n",
    "    grid_s = GridSearchCV(estimator=estimator,param_grid=parameters,scoring=['r2'],cv=8,n_jobs=-1,refit=False)\n",
    "    grid_s.fit(x,y)\n",
    "    best_mse = grid_s.best_score_\n",
    "    best_params = grid_s.best_params_\n",
    "    print(f'best mse = {best_mse}')\n",
    "    print(f'best params = {best_params}')"
   ]
  },
  {
   "cell_type": "code",
   "execution_count": null,
   "id": "b43f85c3",
   "metadata": {},
   "outputs": [],
   "source": []
  },
  {
   "cell_type": "markdown",
   "id": "334d5047",
   "metadata": {},
   "source": [
    "## lets go with linear regression first"
   ]
  },
  {
   "cell_type": "code",
   "execution_count": 95,
   "id": "00a758f6",
   "metadata": {},
   "outputs": [],
   "source": [
    "\n",
    "from sklearn.linear_model import LinearRegression as lr\n",
    "linear_r = lr()\n",
    "linear_r.fit(x_train,y_train)\n",
    "y_pred = linear_r.predict(x_test)"
   ]
  },
  {
   "cell_type": "code",
   "execution_count": 96,
   "id": "a8e026b1",
   "metadata": {},
   "outputs": [
    {
     "name": "stdout",
     "output_type": "stream",
     "text": [
      "['LinearRegression() have 4494.431254091641 mean absolute error , 6918.898919998365 root  mean squared error , 0.897647751216714 R squared and 0.8976307041574073 adjusted R squared']\n"
     ]
    }
   ],
   "source": [
    "metrics(linear_r,y_pred,y_test)\n"
   ]
  },
  {
   "cell_type": "code",
   "execution_count": null,
   "id": "2dba9d7e",
   "metadata": {},
   "outputs": [],
   "source": []
  },
  {
   "cell_type": "code",
   "execution_count": null,
   "id": "fe654eb2",
   "metadata": {},
   "outputs": [],
   "source": []
  },
  {
   "cell_type": "code",
   "execution_count": null,
   "id": "a4d88828",
   "metadata": {},
   "outputs": [],
   "source": []
  },
  {
   "cell_type": "markdown",
   "id": "c5db66e2",
   "metadata": {},
   "source": [
    "## desesion trees "
   ]
  },
  {
   "cell_type": "code",
   "execution_count": 97,
   "id": "3f55e4f3",
   "metadata": {},
   "outputs": [],
   "source": [
    "from sklearn.tree import DecisionTreeRegressor\n",
    "tree = DecisionTreeRegressor(max_depth=5)\n",
    "tree.fit(x_train,y_train)\n",
    "y_pred = tree.predict(x_test)"
   ]
  },
  {
   "cell_type": "code",
   "execution_count": 98,
   "id": "fd6d84ab",
   "metadata": {},
   "outputs": [
    {
     "name": "stdout",
     "output_type": "stream",
     "text": [
      "['DecisionTreeRegressor(max_depth=5) have 3240.200839207524 mean absolute error , 5389.9750847090445 root  mean squared error , 0.9403265886769538 R squared and 0.9403166498998976 adjusted R squared']\n"
     ]
    }
   ],
   "source": [
    "metrics(tree,y_pred,y_test)\n"
   ]
  },
  {
   "cell_type": "code",
   "execution_count": null,
   "id": "a36ae5a4",
   "metadata": {},
   "outputs": [],
   "source": []
  },
  {
   "cell_type": "markdown",
   "id": "6c1b30e2",
   "metadata": {},
   "source": [
    "## Random forest\n"
   ]
  },
  {
   "cell_type": "code",
   "execution_count": 99,
   "id": "e3ae5adc",
   "metadata": {},
   "outputs": [],
   "source": [
    "from sklearn.ensemble import RandomForestRegressor\n",
    "forest = RandomForestRegressor()\n",
    "forest.fit(x_train,y_train)\n",
    "y_pred = forest.predict(x_test)"
   ]
  },
  {
   "cell_type": "code",
   "execution_count": 100,
   "id": "963679df",
   "metadata": {},
   "outputs": [
    {
     "name": "stdout",
     "output_type": "stream",
     "text": [
      "['RandomForestRegressor() have 1218.1655265376082 mean absolute error , 2915.746373659695 root  mean squared error , 0.9832766089017715 R squared and 0.9832738235732296 adjusted R squared']\n"
     ]
    }
   ],
   "source": [
    "metrics(forest,y_pred,y_test)\n"
   ]
  },
  {
   "cell_type": "code",
   "execution_count": null,
   "id": "4fb750cf",
   "metadata": {},
   "outputs": [],
   "source": []
  },
  {
   "cell_type": "markdown",
   "id": "fe9bb051",
   "metadata": {},
   "source": [
    "## SVR"
   ]
  },
  {
   "cell_type": "code",
   "execution_count": null,
   "id": "98e8ee94",
   "metadata": {},
   "outputs": [],
   "source": []
  },
  {
   "cell_type": "code",
   "execution_count": null,
   "id": "5643d22a",
   "metadata": {},
   "outputs": [],
   "source": []
  },
  {
   "cell_type": "code",
   "execution_count": null,
   "id": "0f0542c8",
   "metadata": {},
   "outputs": [],
   "source": []
  },
  {
   "cell_type": "markdown",
   "id": "d6d77f5f",
   "metadata": {},
   "source": [
    "## Ridge model "
   ]
  },
  {
   "cell_type": "code",
   "execution_count": 101,
   "id": "62b4cbbf",
   "metadata": {},
   "outputs": [],
   "source": [
    "from sklearn.linear_model import Ridge\n",
    "ridge = Ridge(alpha=0.5)\n",
    "ridge.fit(x_train,y_train)\n",
    "y_pred = ridge.predict(x_test)"
   ]
  },
  {
   "cell_type": "code",
   "execution_count": 102,
   "id": "c78bc2b3",
   "metadata": {},
   "outputs": [
    {
     "name": "stdout",
     "output_type": "stream",
     "text": [
      "['Ridge(alpha=0.5) have 4494.433255651125 mean absolute error , 6918.898425624341 root  mean squared error , 0.8976473570821539 R squared and 0.897630309957203 adjusted R squared']\n"
     ]
    }
   ],
   "source": [
    "metrics(ridge,y_pred,y_test)\n"
   ]
  },
  {
   "cell_type": "code",
   "execution_count": null,
   "id": "2e2990ab",
   "metadata": {},
   "outputs": [],
   "source": []
  },
  {
   "cell_type": "markdown",
   "id": "773acf1f",
   "metadata": {},
   "source": [
    "## gradient boost regresor "
   ]
  },
  {
   "cell_type": "code",
   "execution_count": 103,
   "id": "1caddece",
   "metadata": {},
   "outputs": [],
   "source": [
    "\n",
    "\n",
    "from sklearn.ensemble import HistGradientBoostingRegressor \n",
    "gbr = HistGradientBoostingRegressor()\n",
    "gbr.fit(x_train,y_train)\n",
    "y_pred = gbr.predict(x_test)"
   ]
  },
  {
   "cell_type": "code",
   "execution_count": 104,
   "id": "780036a5",
   "metadata": {},
   "outputs": [
    {
     "name": "stdout",
     "output_type": "stream",
     "text": [
      "['HistGradientBoostingRegressor() have 2466.17010173806 mean absolute error , 4136.028717279077 root  mean squared error , 0.9652569736633202 R squared and 0.9652511871130734 adjusted R squared']\n"
     ]
    }
   ],
   "source": [
    "metrics(gbr,y_pred,y_test)\n"
   ]
  },
  {
   "cell_type": "code",
   "execution_count": null,
   "id": "af59aaf0",
   "metadata": {},
   "outputs": [],
   "source": []
  },
  {
   "cell_type": "code",
   "execution_count": null,
   "id": "f0551410",
   "metadata": {},
   "outputs": [],
   "source": []
  },
  {
   "cell_type": "code",
   "execution_count": null,
   "id": "adc3e477",
   "metadata": {},
   "outputs": [],
   "source": []
  },
  {
   "cell_type": "code",
   "execution_count": 109,
   "id": "9621e696",
   "metadata": {},
   "outputs": [],
   "source": [
    "from sklearn.svm import LinearSVR\n",
    "svr = LinearSVR()\n",
    "svr.fit(x_train,y_train)\n",
    "y_pred = svr.predict(x_test)"
   ]
  },
  {
   "cell_type": "code",
   "execution_count": 110,
   "id": "8ba29736",
   "metadata": {},
   "outputs": [
    {
     "name": "stdout",
     "output_type": "stream",
     "text": [
      "['LinearSVR() have 4220.575541367432 mean absolute error , 7188.978182466184 root  mean squared error , 0.8811591918449219 R squared and 0.881139398568968 adjusted R squared']\n"
     ]
    }
   ],
   "source": [
    "metrics(svr,y_pred,y_test)\n"
   ]
  },
  {
   "cell_type": "code",
   "execution_count": null,
   "id": "e1bc3f33",
   "metadata": {},
   "outputs": [],
   "source": []
  },
  {
   "cell_type": "markdown",
   "id": "c12bda75",
   "metadata": {},
   "source": [
    "# ADA BOOST "
   ]
  },
  {
   "cell_type": "code",
   "execution_count": 111,
   "id": "26c7a644",
   "metadata": {},
   "outputs": [],
   "source": [
    "from sklearn.ensemble import AdaBoostRegressor\n",
    "ada = AdaBoostRegressor(n_estimators=100)\n",
    "ada.fit(x_train,y_train)\n",
    "y_pred = ada.predict(x_test)"
   ]
  },
  {
   "cell_type": "code",
   "execution_count": null,
   "id": "cd20e12f",
   "metadata": {},
   "outputs": [],
   "source": []
  },
  {
   "cell_type": "code",
   "execution_count": 112,
   "id": "433cabc1",
   "metadata": {},
   "outputs": [
    {
     "name": "stdout",
     "output_type": "stream",
     "text": [
      "['AdaBoostRegressor(n_estimators=100) have 3732.0574542173595 mean absolute error , 5882.665722389487 root  mean squared error , 0.9340448334711549 R squared and 0.9340338484498313 adjusted R squared']\n"
     ]
    }
   ],
   "source": [
    "metrics(ada,y_pred,y_test)\n"
   ]
  },
  {
   "cell_type": "markdown",
   "id": "8df8a77b",
   "metadata": {},
   "source": [
    "# Ann"
   ]
  },
  {
   "cell_type": "code",
   "execution_count": 113,
   "id": "17b3039e",
   "metadata": {},
   "outputs": [
    {
     "name": "stdout",
     "output_type": "stream",
     "text": [
      "WARNING:tensorflow:From C:\\Users\\mplan\\anaconda3\\Lib\\site-packages\\keras\\src\\losses.py:2976: The name tf.losses.sparse_softmax_cross_entropy is deprecated. Please use tf.compat.v1.losses.sparse_softmax_cross_entropy instead.\n",
      "\n",
      "WARNING:tensorflow:From C:\\Users\\mplan\\anaconda3\\Lib\\site-packages\\keras\\src\\backend.py:873: The name tf.get_default_graph is deprecated. Please use tf.compat.v1.get_default_graph instead.\n",
      "\n",
      "Model: \"sequential\"\n",
      "_________________________________________________________________\n",
      " Layer (type)                Output Shape              Param #   \n",
      "=================================================================\n",
      " dense (Dense)               (None, 40)                440       \n",
      "                                                                 \n",
      " dense_1 (Dense)             (None, 30)                1230      \n",
      "                                                                 \n",
      " dense_2 (Dense)             (None, 10)                310       \n",
      "                                                                 \n",
      " dense_3 (Dense)             (None, 1)                 11        \n",
      "                                                                 \n",
      "=================================================================\n",
      "Total params: 1991 (7.78 KB)\n",
      "Trainable params: 1991 (7.78 KB)\n",
      "Non-trainable params: 0 (0.00 Byte)\n",
      "_________________________________________________________________\n"
     ]
    }
   ],
   "source": [
    "import tensorflow as tf\n",
    "from tensorflow.keras.layers import *\n",
    "from tensorflow.keras.models import Sequential\n",
    "\n",
    "\n",
    "model = Sequential()\n",
    "model.add(Input(shape=(10,)))\n",
    "model.add(Dense(40,'relu'))\n",
    "model.add(Dense(30,'relu'))\n",
    "model.add(Dense(10,'relu'))\n",
    "model.add(Dense(1,'linear'))\n",
    "\n",
    "model.summary()\n",
    "\n"
   ]
  },
  {
   "cell_type": "code",
   "execution_count": 114,
   "id": "d464ab36",
   "metadata": {},
   "outputs": [
    {
     "name": "stdout",
     "output_type": "stream",
     "text": [
      "WARNING:tensorflow:From C:\\Users\\mplan\\anaconda3\\Lib\\site-packages\\keras\\src\\optimizers\\__init__.py:309: The name tf.train.Optimizer is deprecated. Please use tf.compat.v1.train.Optimizer instead.\n",
      "\n"
     ]
    }
   ],
   "source": [
    "model.compile(optimizer='adam',loss='mean_squared_error',metrics=['MeanSquaredError'])"
   ]
  },
  {
   "cell_type": "code",
   "execution_count": 115,
   "id": "458b38aa",
   "metadata": {},
   "outputs": [
    {
     "name": "stdout",
     "output_type": "stream",
     "text": [
      "Epoch 1/15\n",
      "WARNING:tensorflow:From C:\\Users\\mplan\\anaconda3\\Lib\\site-packages\\keras\\src\\utils\\tf_utils.py:492: The name tf.ragged.RaggedTensorValue is deprecated. Please use tf.compat.v1.ragged.RaggedTensorValue instead.\n",
      "\n",
      "WARNING:tensorflow:From C:\\Users\\mplan\\anaconda3\\Lib\\site-packages\\keras\\src\\engine\\base_layer_utils.py:384: The name tf.executing_eagerly_outside_functions is deprecated. Please use tf.compat.v1.executing_eagerly_outside_functions instead.\n",
      "\n",
      "7507/7507 [==============================] - 30s 4ms/step - loss: 105586880.0000 - mean_squared_error: 105586880.0000\n",
      "Epoch 2/15\n",
      "7507/7507 [==============================] - 28s 4ms/step - loss: 33686028.0000 - mean_squared_error: 33686028.0000\n",
      "Epoch 3/15\n",
      "7507/7507 [==============================] - 32s 4ms/step - loss: 31174424.0000 - mean_squared_error: 31174424.0000\n",
      "Epoch 4/15\n",
      "7507/7507 [==============================] - 33s 4ms/step - loss: 30205352.0000 - mean_squared_error: 30205352.0000\n",
      "Epoch 5/15\n",
      "7507/7507 [==============================] - 26s 3ms/step - loss: 29542868.0000 - mean_squared_error: 29542868.0000\n",
      "Epoch 6/15\n",
      "7507/7507 [==============================] - 32s 4ms/step - loss: 28996856.0000 - mean_squared_error: 28996856.0000\n",
      "Epoch 7/15\n",
      "7507/7507 [==============================] - 33s 4ms/step - loss: 28534666.0000 - mean_squared_error: 28534666.0000\n",
      "Epoch 8/15\n",
      "7507/7507 [==============================] - 33s 4ms/step - loss: 28172520.0000 - mean_squared_error: 28172520.0000\n",
      "Epoch 9/15\n",
      "7507/7507 [==============================] - 29s 4ms/step - loss: 27905156.0000 - mean_squared_error: 27905156.0000\n",
      "Epoch 10/15\n",
      "7507/7507 [==============================] - 25s 3ms/step - loss: 27724478.0000 - mean_squared_error: 27724478.0000\n",
      "Epoch 11/15\n",
      "7507/7507 [==============================] - 25s 3ms/step - loss: 27548460.0000 - mean_squared_error: 27548460.0000\n",
      "Epoch 12/15\n",
      "7507/7507 [==============================] - 23s 3ms/step - loss: 27429538.0000 - mean_squared_error: 27429538.0000\n",
      "Epoch 13/15\n",
      "7507/7507 [==============================] - 27s 4ms/step - loss: 27291680.0000 - mean_squared_error: 27291680.0000\n",
      "Epoch 14/15\n",
      "7507/7507 [==============================] - 29s 4ms/step - loss: 27188538.0000 - mean_squared_error: 27188538.0000\n",
      "Epoch 15/15\n",
      "7507/7507 [==============================] - 23s 3ms/step - loss: 27106056.0000 - mean_squared_error: 27106056.0000\n"
     ]
    }
   ],
   "source": [
    "hist = model.fit(x_train,y_train,batch_size=32,epochs=15)"
   ]
  },
  {
   "cell_type": "code",
   "execution_count": 116,
   "id": "649e4331",
   "metadata": {},
   "outputs": [
    {
     "name": "stdout",
     "output_type": "stream",
     "text": [
      "1877/1877 [==============================] - 3s 2ms/step\n"
     ]
    }
   ],
   "source": [
    "y_pred = model.predict(x_test)"
   ]
  },
  {
   "cell_type": "code",
   "execution_count": 117,
   "id": "790a0cf8",
   "metadata": {},
   "outputs": [
    {
     "name": "stdout",
     "output_type": "stream",
     "text": [
      "['<keras.src.engine.sequential.Sequential object at 0x000001BDA93B0050> have 3142.788225865464 mean absolute error , 5169.895633127161 root  mean squared error , 0.946195272091124 R squared and 0.9461863107600488 adjusted R squared']\n"
     ]
    }
   ],
   "source": [
    "metrics(model,y_pred,y_test)"
   ]
  },
  {
   "cell_type": "code",
   "execution_count": null,
   "id": "be0ca64c",
   "metadata": {},
   "outputs": [],
   "source": []
  },
  {
   "cell_type": "code",
   "execution_count": null,
   "id": "c00cc7f1",
   "metadata": {},
   "outputs": [],
   "source": [
    "\n"
   ]
  },
  {
   "cell_type": "markdown",
   "id": "f642f787",
   "metadata": {},
   "source": [
    "# lets summarize all the models "
   ]
  },
  {
   "cell_type": "code",
   "execution_count": 119,
   "id": "0065a283",
   "metadata": {},
   "outputs": [
    {
     "data": {
      "text/plain": [
       "[['LinearRegression() have 4494.431254091641 mean absolute error , 6918.898919998365 root  mean squared error , 0.897647751216714 R squared and 0.8976307041574073 adjusted R squared'],\n",
       " ['DecisionTreeRegressor(max_depth=5) have 3240.200839207524 mean absolute error , 5389.9750847090445 root  mean squared error , 0.9403265886769538 R squared and 0.9403166498998976 adjusted R squared'],\n",
       " ['RandomForestRegressor() have 1218.1655265376082 mean absolute error , 2915.746373659695 root  mean squared error , 0.9832766089017715 R squared and 0.9832738235732296 adjusted R squared'],\n",
       " ['Ridge(alpha=0.5) have 4494.433255651125 mean absolute error , 6918.898425624341 root  mean squared error , 0.8976473570821539 R squared and 0.897630309957203 adjusted R squared'],\n",
       " ['HistGradientBoostingRegressor() have 2466.17010173806 mean absolute error , 4136.028717279077 root  mean squared error , 0.9652569736633202 R squared and 0.9652511871130734 adjusted R squared'],\n",
       " ['XGBRegressor(base_score=None, booster=None, callbacks=None,\\n             colsample_bylevel=None, colsample_bynode=None,\\n             colsample_bytree=None, device=None, early_stopping_rounds=None,\\n             enable_categorical=False, eval_metric=None, feature_types=None,\\n             gamma=None, grow_policy=None, importance_type=None,\\n             interaction_constraints=None, learning_rate=0.05, max_bin=None,\\n             max_cat_threshold=None, max_cat_to_onehot=None,\\n             max_delta_step=None, max_depth=6, max_leaves=None,\\n             min_child_weight=None, missing=nan, monotone_constraints=None,\\n             multi_strategy=None, n_estimators=200, n_jobs=None,\\n             num_parallel_tree=None, random_state=None, ...) have 35323.50773065362 mean absolute error , 41113.38241790931 root  mean squared error , -10.036762034980491 R squared and -10.038600239213428 adjusted R squared'],\n",
       " ['LinearSVR() have 4220.575541367432 mean absolute error , 7188.978182466184 root  mean squared error , 0.8811591918449219 R squared and 0.881139398568968 adjusted R squared'],\n",
       " ['AdaBoostRegressor(n_estimators=100) have 3732.0574542173595 mean absolute error , 5882.665722389487 root  mean squared error , 0.9340448334711549 R squared and 0.9340338484498313 adjusted R squared'],\n",
       " ['<keras.src.engine.sequential.Sequential object at 0x000001BDA93B0050> have 3142.788225865464 mean absolute error , 5169.895633127161 root  mean squared error , 0.946195272091124 R squared and 0.9461863107600488 adjusted R squared']]"
      ]
     },
     "execution_count": 119,
     "metadata": {},
     "output_type": "execute_result"
    }
   ],
   "source": [
    "history"
   ]
  },
  {
   "cell_type": "code",
   "execution_count": 127,
   "id": "87ca0438",
   "metadata": {},
   "outputs": [
    {
     "data": {
      "text/plain": [
       "list"
      ]
     },
     "execution_count": 127,
     "metadata": {},
     "output_type": "execute_result"
    }
   ],
   "source": [
    "type(hist_df)\n",
    "\n"
   ]
  },
  {
   "cell_type": "code",
   "execution_count": 131,
   "id": "b865094d",
   "metadata": {},
   "outputs": [],
   "source": [
    "mm = []\n",
    "for i in hist_df:\n",
    "    for j in i:\n",
    "        aa = []\n",
    "        for k in j :\n",
    "            aa.append(k)\n",
    "    mm.append(aa)"
   ]
  },
  {
   "cell_type": "code",
   "execution_count": 156,
   "id": "4d0604aa",
   "metadata": {},
   "outputs": [],
   "source": [
    "models = pd.DataFrame(mm,columns=['model','mae','rmnse','r2','adjusted_r2'])"
   ]
  },
  {
   "cell_type": "code",
   "execution_count": 157,
   "id": "5b47a2a9",
   "metadata": {},
   "outputs": [
    {
     "data": {
      "text/html": [
       "<div>\n",
       "<style scoped>\n",
       "    .dataframe tbody tr th:only-of-type {\n",
       "        vertical-align: middle;\n",
       "    }\n",
       "\n",
       "    .dataframe tbody tr th {\n",
       "        vertical-align: top;\n",
       "    }\n",
       "\n",
       "    .dataframe thead th {\n",
       "        text-align: right;\n",
       "    }\n",
       "</style>\n",
       "<table border=\"1\" class=\"dataframe\">\n",
       "  <thead>\n",
       "    <tr style=\"text-align: right;\">\n",
       "      <th></th>\n",
       "      <th>model</th>\n",
       "      <th>mae</th>\n",
       "      <th>rmnse</th>\n",
       "      <th>r2</th>\n",
       "      <th>adjusted_r2</th>\n",
       "    </tr>\n",
       "  </thead>\n",
       "  <tbody>\n",
       "    <tr>\n",
       "      <th>0</th>\n",
       "      <td>LinearRegression()</td>\n",
       "      <td>4494.431254</td>\n",
       "      <td>6918.898920</td>\n",
       "      <td>0.897648</td>\n",
       "      <td>0.897631</td>\n",
       "    </tr>\n",
       "    <tr>\n",
       "      <th>1</th>\n",
       "      <td>DecisionTreeRegressor(max_depth=5)</td>\n",
       "      <td>3240.200839</td>\n",
       "      <td>5389.975085</td>\n",
       "      <td>0.940327</td>\n",
       "      <td>0.940317</td>\n",
       "    </tr>\n",
       "    <tr>\n",
       "      <th>2</th>\n",
       "      <td>(DecisionTreeRegressor(max_features=1.0, rando...</td>\n",
       "      <td>1218.165527</td>\n",
       "      <td>2915.746374</td>\n",
       "      <td>0.983277</td>\n",
       "      <td>0.983274</td>\n",
       "    </tr>\n",
       "    <tr>\n",
       "      <th>3</th>\n",
       "      <td>Ridge(alpha=0.5)</td>\n",
       "      <td>4494.433256</td>\n",
       "      <td>6918.898426</td>\n",
       "      <td>0.897647</td>\n",
       "      <td>0.897630</td>\n",
       "    </tr>\n",
       "    <tr>\n",
       "      <th>4</th>\n",
       "      <td>HistGradientBoostingRegressor()</td>\n",
       "      <td>2466.170102</td>\n",
       "      <td>4136.028717</td>\n",
       "      <td>0.965257</td>\n",
       "      <td>0.965251</td>\n",
       "    </tr>\n",
       "    <tr>\n",
       "      <th>5</th>\n",
       "      <td>XGBRegressor(base_score=None, booster=None, ca...</td>\n",
       "      <td>35323.507731</td>\n",
       "      <td>41113.382418</td>\n",
       "      <td>-10.036762</td>\n",
       "      <td>-10.038600</td>\n",
       "    </tr>\n",
       "    <tr>\n",
       "      <th>6</th>\n",
       "      <td>LinearSVR()</td>\n",
       "      <td>4220.575541</td>\n",
       "      <td>7188.978182</td>\n",
       "      <td>0.881159</td>\n",
       "      <td>0.881139</td>\n",
       "    </tr>\n",
       "    <tr>\n",
       "      <th>7</th>\n",
       "      <td>(DecisionTreeRegressor(max_depth=3, random_sta...</td>\n",
       "      <td>3732.057454</td>\n",
       "      <td>5882.665722</td>\n",
       "      <td>0.934045</td>\n",
       "      <td>0.934034</td>\n",
       "    </tr>\n",
       "    <tr>\n",
       "      <th>8</th>\n",
       "      <td>&lt;keras.src.engine.sequential.Sequential object...</td>\n",
       "      <td>3142.788226</td>\n",
       "      <td>5169.895633</td>\n",
       "      <td>0.946195</td>\n",
       "      <td>0.946186</td>\n",
       "    </tr>\n",
       "  </tbody>\n",
       "</table>\n",
       "</div>"
      ],
      "text/plain": [
       "                                               model           mae  \\\n",
       "0                                 LinearRegression()   4494.431254   \n",
       "1                 DecisionTreeRegressor(max_depth=5)   3240.200839   \n",
       "2  (DecisionTreeRegressor(max_features=1.0, rando...   1218.165527   \n",
       "3                                   Ridge(alpha=0.5)   4494.433256   \n",
       "4                    HistGradientBoostingRegressor()   2466.170102   \n",
       "5  XGBRegressor(base_score=None, booster=None, ca...  35323.507731   \n",
       "6                                        LinearSVR()   4220.575541   \n",
       "7  (DecisionTreeRegressor(max_depth=3, random_sta...   3732.057454   \n",
       "8  <keras.src.engine.sequential.Sequential object...   3142.788226   \n",
       "\n",
       "          rmnse         r2  adjusted_r2  \n",
       "0   6918.898920   0.897648     0.897631  \n",
       "1   5389.975085   0.940327     0.940317  \n",
       "2   2915.746374   0.983277     0.983274  \n",
       "3   6918.898426   0.897647     0.897630  \n",
       "4   4136.028717   0.965257     0.965251  \n",
       "5  41113.382418 -10.036762   -10.038600  \n",
       "6   7188.978182   0.881159     0.881139  \n",
       "7   5882.665722   0.934045     0.934034  \n",
       "8   5169.895633   0.946195     0.946186  "
      ]
     },
     "execution_count": 157,
     "metadata": {},
     "output_type": "execute_result"
    }
   ],
   "source": [
    "models"
   ]
  },
  {
   "cell_type": "code",
   "execution_count": 158,
   "id": "5bf08c1a",
   "metadata": {},
   "outputs": [
    {
     "data": {
      "text/html": [
       "<div>\n",
       "<style scoped>\n",
       "    .dataframe tbody tr th:only-of-type {\n",
       "        vertical-align: middle;\n",
       "    }\n",
       "\n",
       "    .dataframe tbody tr th {\n",
       "        vertical-align: top;\n",
       "    }\n",
       "\n",
       "    .dataframe thead th {\n",
       "        text-align: right;\n",
       "    }\n",
       "</style>\n",
       "<table border=\"1\" class=\"dataframe\">\n",
       "  <thead>\n",
       "    <tr style=\"text-align: right;\">\n",
       "      <th></th>\n",
       "      <th>model</th>\n",
       "      <th>mae</th>\n",
       "      <th>rmnse</th>\n",
       "      <th>r2</th>\n",
       "      <th>adjusted_r2</th>\n",
       "    </tr>\n",
       "  </thead>\n",
       "  <tbody>\n",
       "    <tr>\n",
       "      <th>2</th>\n",
       "      <td>(DecisionTreeRegressor(max_features=1.0, rando...</td>\n",
       "      <td>1218.165527</td>\n",
       "      <td>2915.746374</td>\n",
       "      <td>0.983277</td>\n",
       "      <td>0.983274</td>\n",
       "    </tr>\n",
       "    <tr>\n",
       "      <th>4</th>\n",
       "      <td>HistGradientBoostingRegressor()</td>\n",
       "      <td>2466.170102</td>\n",
       "      <td>4136.028717</td>\n",
       "      <td>0.965257</td>\n",
       "      <td>0.965251</td>\n",
       "    </tr>\n",
       "    <tr>\n",
       "      <th>8</th>\n",
       "      <td>&lt;keras.src.engine.sequential.Sequential object...</td>\n",
       "      <td>3142.788226</td>\n",
       "      <td>5169.895633</td>\n",
       "      <td>0.946195</td>\n",
       "      <td>0.946186</td>\n",
       "    </tr>\n",
       "    <tr>\n",
       "      <th>1</th>\n",
       "      <td>DecisionTreeRegressor(max_depth=5)</td>\n",
       "      <td>3240.200839</td>\n",
       "      <td>5389.975085</td>\n",
       "      <td>0.940327</td>\n",
       "      <td>0.940317</td>\n",
       "    </tr>\n",
       "    <tr>\n",
       "      <th>7</th>\n",
       "      <td>(DecisionTreeRegressor(max_depth=3, random_sta...</td>\n",
       "      <td>3732.057454</td>\n",
       "      <td>5882.665722</td>\n",
       "      <td>0.934045</td>\n",
       "      <td>0.934034</td>\n",
       "    </tr>\n",
       "    <tr>\n",
       "      <th>0</th>\n",
       "      <td>LinearRegression()</td>\n",
       "      <td>4494.431254</td>\n",
       "      <td>6918.898920</td>\n",
       "      <td>0.897648</td>\n",
       "      <td>0.897631</td>\n",
       "    </tr>\n",
       "    <tr>\n",
       "      <th>3</th>\n",
       "      <td>Ridge(alpha=0.5)</td>\n",
       "      <td>4494.433256</td>\n",
       "      <td>6918.898426</td>\n",
       "      <td>0.897647</td>\n",
       "      <td>0.897630</td>\n",
       "    </tr>\n",
       "    <tr>\n",
       "      <th>6</th>\n",
       "      <td>LinearSVR()</td>\n",
       "      <td>4220.575541</td>\n",
       "      <td>7188.978182</td>\n",
       "      <td>0.881159</td>\n",
       "      <td>0.881139</td>\n",
       "    </tr>\n",
       "    <tr>\n",
       "      <th>5</th>\n",
       "      <td>XGBRegressor(base_score=None, booster=None, ca...</td>\n",
       "      <td>35323.507731</td>\n",
       "      <td>41113.382418</td>\n",
       "      <td>-10.036762</td>\n",
       "      <td>-10.038600</td>\n",
       "    </tr>\n",
       "  </tbody>\n",
       "</table>\n",
       "</div>"
      ],
      "text/plain": [
       "                                               model           mae  \\\n",
       "2  (DecisionTreeRegressor(max_features=1.0, rando...   1218.165527   \n",
       "4                    HistGradientBoostingRegressor()   2466.170102   \n",
       "8  <keras.src.engine.sequential.Sequential object...   3142.788226   \n",
       "1                 DecisionTreeRegressor(max_depth=5)   3240.200839   \n",
       "7  (DecisionTreeRegressor(max_depth=3, random_sta...   3732.057454   \n",
       "0                                 LinearRegression()   4494.431254   \n",
       "3                                   Ridge(alpha=0.5)   4494.433256   \n",
       "6                                        LinearSVR()   4220.575541   \n",
       "5  XGBRegressor(base_score=None, booster=None, ca...  35323.507731   \n",
       "\n",
       "          rmnse         r2  adjusted_r2  \n",
       "2   2915.746374   0.983277     0.983274  \n",
       "4   4136.028717   0.965257     0.965251  \n",
       "8   5169.895633   0.946195     0.946186  \n",
       "1   5389.975085   0.940327     0.940317  \n",
       "7   5882.665722   0.934045     0.934034  \n",
       "0   6918.898920   0.897648     0.897631  \n",
       "3   6918.898426   0.897647     0.897630  \n",
       "6   7188.978182   0.881159     0.881139  \n",
       "5  41113.382418 -10.036762   -10.038600  "
      ]
     },
     "execution_count": 158,
     "metadata": {},
     "output_type": "execute_result"
    }
   ],
   "source": [
    "models.sort_values(by='adjusted_r2',ascending=False)"
   ]
  },
  {
   "cell_type": "code",
   "execution_count": 159,
   "id": "3c6ec8be",
   "metadata": {},
   "outputs": [
    {
     "data": {
      "text/html": [
       "<div>\n",
       "<style scoped>\n",
       "    .dataframe tbody tr th:only-of-type {\n",
       "        vertical-align: middle;\n",
       "    }\n",
       "\n",
       "    .dataframe tbody tr th {\n",
       "        vertical-align: top;\n",
       "    }\n",
       "\n",
       "    .dataframe thead th {\n",
       "        text-align: right;\n",
       "    }\n",
       "</style>\n",
       "<table border=\"1\" class=\"dataframe\">\n",
       "  <thead>\n",
       "    <tr style=\"text-align: right;\">\n",
       "      <th></th>\n",
       "      <th>model</th>\n",
       "      <th>mae</th>\n",
       "      <th>rmnse</th>\n",
       "      <th>r2</th>\n",
       "      <th>adjusted_r2</th>\n",
       "    </tr>\n",
       "  </thead>\n",
       "  <tbody>\n",
       "    <tr>\n",
       "      <th>2</th>\n",
       "      <td>(DecisionTreeRegressor(max_features=1.0, rando...</td>\n",
       "      <td>1218.165527</td>\n",
       "      <td>2915.746374</td>\n",
       "      <td>0.983277</td>\n",
       "      <td>0.983274</td>\n",
       "    </tr>\n",
       "    <tr>\n",
       "      <th>4</th>\n",
       "      <td>HistGradientBoostingRegressor()</td>\n",
       "      <td>2466.170102</td>\n",
       "      <td>4136.028717</td>\n",
       "      <td>0.965257</td>\n",
       "      <td>0.965251</td>\n",
       "    </tr>\n",
       "    <tr>\n",
       "      <th>8</th>\n",
       "      <td>&lt;keras.src.engine.sequential.Sequential object...</td>\n",
       "      <td>3142.788226</td>\n",
       "      <td>5169.895633</td>\n",
       "      <td>0.946195</td>\n",
       "      <td>0.946186</td>\n",
       "    </tr>\n",
       "    <tr>\n",
       "      <th>1</th>\n",
       "      <td>DecisionTreeRegressor(max_depth=5)</td>\n",
       "      <td>3240.200839</td>\n",
       "      <td>5389.975085</td>\n",
       "      <td>0.940327</td>\n",
       "      <td>0.940317</td>\n",
       "    </tr>\n",
       "    <tr>\n",
       "      <th>7</th>\n",
       "      <td>(DecisionTreeRegressor(max_depth=3, random_sta...</td>\n",
       "      <td>3732.057454</td>\n",
       "      <td>5882.665722</td>\n",
       "      <td>0.934045</td>\n",
       "      <td>0.934034</td>\n",
       "    </tr>\n",
       "    <tr>\n",
       "      <th>3</th>\n",
       "      <td>Ridge(alpha=0.5)</td>\n",
       "      <td>4494.433256</td>\n",
       "      <td>6918.898426</td>\n",
       "      <td>0.897647</td>\n",
       "      <td>0.897630</td>\n",
       "    </tr>\n",
       "    <tr>\n",
       "      <th>0</th>\n",
       "      <td>LinearRegression()</td>\n",
       "      <td>4494.431254</td>\n",
       "      <td>6918.898920</td>\n",
       "      <td>0.897648</td>\n",
       "      <td>0.897631</td>\n",
       "    </tr>\n",
       "    <tr>\n",
       "      <th>6</th>\n",
       "      <td>LinearSVR()</td>\n",
       "      <td>4220.575541</td>\n",
       "      <td>7188.978182</td>\n",
       "      <td>0.881159</td>\n",
       "      <td>0.881139</td>\n",
       "    </tr>\n",
       "    <tr>\n",
       "      <th>5</th>\n",
       "      <td>XGBRegressor(base_score=None, booster=None, ca...</td>\n",
       "      <td>35323.507731</td>\n",
       "      <td>41113.382418</td>\n",
       "      <td>-10.036762</td>\n",
       "      <td>-10.038600</td>\n",
       "    </tr>\n",
       "  </tbody>\n",
       "</table>\n",
       "</div>"
      ],
      "text/plain": [
       "                                               model           mae  \\\n",
       "2  (DecisionTreeRegressor(max_features=1.0, rando...   1218.165527   \n",
       "4                    HistGradientBoostingRegressor()   2466.170102   \n",
       "8  <keras.src.engine.sequential.Sequential object...   3142.788226   \n",
       "1                 DecisionTreeRegressor(max_depth=5)   3240.200839   \n",
       "7  (DecisionTreeRegressor(max_depth=3, random_sta...   3732.057454   \n",
       "3                                   Ridge(alpha=0.5)   4494.433256   \n",
       "0                                 LinearRegression()   4494.431254   \n",
       "6                                        LinearSVR()   4220.575541   \n",
       "5  XGBRegressor(base_score=None, booster=None, ca...  35323.507731   \n",
       "\n",
       "          rmnse         r2  adjusted_r2  \n",
       "2   2915.746374   0.983277     0.983274  \n",
       "4   4136.028717   0.965257     0.965251  \n",
       "8   5169.895633   0.946195     0.946186  \n",
       "1   5389.975085   0.940327     0.940317  \n",
       "7   5882.665722   0.934045     0.934034  \n",
       "3   6918.898426   0.897647     0.897630  \n",
       "0   6918.898920   0.897648     0.897631  \n",
       "6   7188.978182   0.881159     0.881139  \n",
       "5  41113.382418 -10.036762   -10.038600  "
      ]
     },
     "execution_count": 159,
     "metadata": {},
     "output_type": "execute_result"
    }
   ],
   "source": [
    "models.sort_values(by='rmnse',ascending=True)"
   ]
  },
  {
   "cell_type": "markdown",
   "id": "28b0618a",
   "metadata": {},
   "source": [
    "# so the best Model is the  RandomForest"
   ]
  },
  {
   "cell_type": "markdown",
   "id": "b3c159dd",
   "metadata": {},
   "source": [
    "## we can use it do so some new predictions : "
   ]
  },
  {
   "cell_type": "code",
   "execution_count": 160,
   "id": "b00084f4",
   "metadata": {},
   "outputs": [
    {
     "data": {
      "text/html": [
       "<div>\n",
       "<style scoped>\n",
       "    .dataframe tbody tr th:only-of-type {\n",
       "        vertical-align: middle;\n",
       "    }\n",
       "\n",
       "    .dataframe tbody tr th {\n",
       "        vertical-align: top;\n",
       "    }\n",
       "\n",
       "    .dataframe thead th {\n",
       "        text-align: right;\n",
       "    }\n",
       "</style>\n",
       "<table border=\"1\" class=\"dataframe\">\n",
       "  <thead>\n",
       "    <tr style=\"text-align: right;\">\n",
       "      <th></th>\n",
       "      <th>airline</th>\n",
       "      <th>from</th>\n",
       "      <th>stop</th>\n",
       "      <th>to</th>\n",
       "      <th>price</th>\n",
       "      <th>class</th>\n",
       "      <th>month</th>\n",
       "      <th>day</th>\n",
       "      <th>arrival</th>\n",
       "      <th>departure</th>\n",
       "      <th>duration</th>\n",
       "    </tr>\n",
       "  </thead>\n",
       "  <tbody>\n",
       "    <tr>\n",
       "      <th>0</th>\n",
       "      <td>0</td>\n",
       "      <td>2</td>\n",
       "      <td>0</td>\n",
       "      <td>5</td>\n",
       "      <td>25612</td>\n",
       "      <td>0</td>\n",
       "      <td>2</td>\n",
       "      <td>11</td>\n",
       "      <td>0</td>\n",
       "      <td>0</td>\n",
       "      <td>120</td>\n",
       "    </tr>\n",
       "    <tr>\n",
       "      <th>1</th>\n",
       "      <td>0</td>\n",
       "      <td>2</td>\n",
       "      <td>0</td>\n",
       "      <td>5</td>\n",
       "      <td>25612</td>\n",
       "      <td>0</td>\n",
       "      <td>2</td>\n",
       "      <td>11</td>\n",
       "      <td>0</td>\n",
       "      <td>0</td>\n",
       "      <td>135</td>\n",
       "    </tr>\n",
       "  </tbody>\n",
       "</table>\n",
       "</div>"
      ],
      "text/plain": [
       "   airline  from  stop  to  price  class  month  day  arrival  departure  \\\n",
       "0        0     2     0   5  25612      0      2   11        0          0   \n",
       "1        0     2     0   5  25612      0      2   11        0          0   \n",
       "\n",
       "   duration  \n",
       "0       120  \n",
       "1       135  "
      ]
     },
     "execution_count": 160,
     "metadata": {},
     "output_type": "execute_result"
    }
   ],
   "source": [
    "df.head(2)"
   ]
  },
  {
   "cell_type": "code",
   "execution_count": 161,
   "id": "5063a75a",
   "metadata": {},
   "outputs": [],
   "source": [
    "prediction = forest.predict([[2,1,1,3,1,2,13,1,1,350]])"
   ]
  },
  {
   "cell_type": "code",
   "execution_count": 162,
   "id": "98094792",
   "metadata": {},
   "outputs": [
    {
     "data": {
      "text/plain": [
       "array([9269.58])"
      ]
     },
     "execution_count": 162,
     "metadata": {},
     "output_type": "execute_result"
    }
   ],
   "source": [
    "prediction"
   ]
  },
  {
   "cell_type": "code",
   "execution_count": null,
   "id": "8a307491",
   "metadata": {},
   "outputs": [],
   "source": []
  },
  {
   "cell_type": "markdown",
   "id": "790ca471",
   "metadata": {},
   "source": [
    "# lets compare the predicted and the actual ys : \n"
   ]
  },
  {
   "cell_type": "code",
   "execution_count": 163,
   "id": "db7a778d",
   "metadata": {},
   "outputs": [],
   "source": [
    "y_pred = forest.predict(x_test)\n"
   ]
  },
  {
   "cell_type": "code",
   "execution_count": 164,
   "id": "3f942a1e",
   "metadata": {},
   "outputs": [
    {
     "name": "stdout",
     "output_type": "stream",
     "text": [
      "actual:    44144 | predicted: 44144.0\n",
      "actual:    3822 | predicted: 4727.82\n",
      "actual:    4363 | predicted: 4751.16\n",
      "actual:    8111 | predicted: 8111.0\n",
      "actual:    52392 | predicted: 52392.0\n",
      "actual:    7298 | predicted: 6667.74\n",
      "actual:    14658 | predicted: 13625.66\n",
      "actual:    8913 | predicted: 8913.0\n",
      "actual:    63441 | predicted: 68065.44\n",
      "actual:    6370 | predicted: 5554.06\n"
     ]
    }
   ],
   "source": [
    "for i in range(len(y_pred[:10])):\n",
    "    print(f'actual:    {y_test[i]} | predicted: {y_pred[i]}')"
   ]
  },
  {
   "cell_type": "code",
   "execution_count": null,
   "id": "06129bf7",
   "metadata": {},
   "outputs": [],
   "source": []
  },
  {
   "cell_type": "markdown",
   "id": "f2692d05",
   "metadata": {},
   "source": [
    "# closing, this model is good enough , we will save it for later use "
   ]
  },
  {
   "cell_type": "code",
   "execution_count": 166,
   "id": "10407044",
   "metadata": {},
   "outputs": [
    {
     "data": {
      "text/plain": [
       "['RandomForest_airlines_regresor.joblib']"
      ]
     },
     "execution_count": 166,
     "metadata": {},
     "output_type": "execute_result"
    }
   ],
   "source": [
    "from joblib import dump, load\n",
    "dump(forest, 'RandomForest_airlines_regresor.joblib')\n"
   ]
  },
  {
   "cell_type": "code",
   "execution_count": 167,
   "id": "5e92a137",
   "metadata": {},
   "outputs": [],
   "source": []
  },
  {
   "cell_type": "code",
   "execution_count": null,
   "id": "5c87e901",
   "metadata": {},
   "outputs": [],
   "source": []
  }
 ],
 "metadata": {
  "kernelspec": {
   "display_name": "Python 3 (ipykernel)",
   "language": "python",
   "name": "python3"
  },
  "language_info": {
   "codemirror_mode": {
    "name": "ipython",
    "version": 3
   },
   "file_extension": ".py",
   "mimetype": "text/x-python",
   "name": "python",
   "nbconvert_exporter": "python",
   "pygments_lexer": "ipython3",
   "version": "3.11.5"
  }
 },
 "nbformat": 4,
 "nbformat_minor": 5
}
